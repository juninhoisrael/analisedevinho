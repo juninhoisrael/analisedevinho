{
  "cells": [
    {
      "cell_type": "markdown",
      "metadata": {
        "id": "view-in-github",
        "colab_type": "text"
      },
      "source": [
        "<a href=\"https://colab.research.google.com/github/juninhoisrael/analisedevinho/blob/main/Analise_vinho.ipynb\" target=\"_parent\"><img src=\"https://colab.research.google.com/assets/colab-badge.svg\" alt=\"Open In Colab\"/></a>"
      ]
    },
    {
      "cell_type": "markdown",
      "metadata": {
        "id": "YFjNmhUIJtK-"
      },
      "source": [
        "Neste problema vamos prever quais vinhos foram bem avaliados pelos enólogos a partir de suas propriedades químicas. Adaptado do dataset no [UCI](https://archive.ics.uci.edu/ml/datasets/wine).\n",
        "Os dados já estão separadas em treino e teste nos arquivos `transf_wine_treino.csv` e `transf_wine_teste.csv`, com as seguintes features:\n",
        "- `type`: Tipo do vinho (Branco ou Tinto)\n",
        "- `fixed acidity`: Acidez proveniente de ácidos que não evaporam rapidamente\n",
        "- `volatile acidity`: Acidez proveniente de ácidos que evaporam rapidamente\n",
        "- `citric acid`: Ácido cítrico presente no vinho, dá sensação de fescor\n",
        "- `residual_sugar`: Açúcar da uva residual após fermentação\n",
        "- `chlorides`: Quantidade de sais presentes no vinho\n",
        "- `free sulfur dioxide`: Formas livres de SO2 presentes no vinho\n",
        "- `total sulfur dioxide`: Formas livres e moleculares de SO2 presentes no vinho\n",
        "- `pH`: pH (acidez) do vinho\n",
        "- `sulphates`: Quantidade de sulfatos no vinho\n",
        "- `alcohol`: Quantidade de álcool presente no vinho\n",
        "- `aprovado`: Indicativo de aprovação ou não do vinho pelos enólogos. `1` indica aprovação e `0` indica reprovação. **É nossa variável de interesse!**"
      ]
    },
    {
      "cell_type": "code",
      "source": [
        "from google.colab import drive # Caso a leitura desse código seja feito pelo Colab, será necessário importar do drive\n",
        "drive.mount('/content/drive')"
      ],
      "metadata": {
        "colab": {
          "base_uri": "https://localhost:8080/"
        },
        "id": "q94syvC7Q4kW",
        "outputId": "8bcf22d1-97f7-45e8-cd86-a0ea9b018f1b"
      },
      "execution_count": 1,
      "outputs": [
        {
          "output_type": "stream",
          "name": "stdout",
          "text": [
            "Mounted at /content/drive\n"
          ]
        }
      ]
    },
    {
      "cell_type": "code",
      "execution_count": 3,
      "metadata": {
        "id": "vRDlyTTRJtLG"
      },
      "outputs": [],
      "source": [
        "import warnings\n",
        "warnings.filterwarnings('ignore')\n",
        "import pandas as pd\n",
        "import numpy as np\n",
        "import matplotlib.pyplot as plt\n",
        "import seaborn as sns\n",
        "\n",
        "# muitas linhas e colunas de uma vez\n",
        "pd.options.display.max_rows = 999\n",
        "pd.options.display.max_columns = 999 \n",
        "\n",
        "# Carregando os dados\n",
        "dados_treino = pd.read_csv('/content/drive/MyDrive/Colab Notebooks/TERA/analise de vinhos/Dados/transf_wine_treino.csv',index_col=0).drop('index',axis=1)\n",
        "dados_teste = pd.read_csv('/content/drive/MyDrive/Colab Notebooks/TERA/analise de vinhos/Dados/transf_wine_teste.csv',index_col=0).drop('index',axis=1)"
      ]
    },
    {
      "cell_type": "code",
      "execution_count": null,
      "metadata": {
        "id": "8GQ3mjH2JtLJ",
        "outputId": "d440ad90-9e54-455c-fb2e-f23985a0790d"
      },
      "outputs": [
        {
          "data": {
            "text/html": [
              "<div>\n",
              "<style scoped>\n",
              "    .dataframe tbody tr th:only-of-type {\n",
              "        vertical-align: middle;\n",
              "    }\n",
              "\n",
              "    .dataframe tbody tr th {\n",
              "        vertical-align: top;\n",
              "    }\n",
              "\n",
              "    .dataframe thead th {\n",
              "        text-align: right;\n",
              "    }\n",
              "</style>\n",
              "<table border=\"1\" class=\"dataframe\">\n",
              "  <thead>\n",
              "    <tr style=\"text-align: right;\">\n",
              "      <th></th>\n",
              "      <th>type</th>\n",
              "      <th>fixed acidity</th>\n",
              "      <th>volatile acidity</th>\n",
              "      <th>citric acid</th>\n",
              "      <th>residual sugar</th>\n",
              "      <th>chlorides</th>\n",
              "      <th>free sulfur dioxide</th>\n",
              "      <th>total sulfur dioxide</th>\n",
              "      <th>density</th>\n",
              "      <th>pH</th>\n",
              "      <th>sulphates</th>\n",
              "      <th>alcohol</th>\n",
              "      <th>aprovado</th>\n",
              "    </tr>\n",
              "  </thead>\n",
              "  <tbody>\n",
              "    <tr>\n",
              "      <th>0</th>\n",
              "      <td>white</td>\n",
              "      <td>6.7</td>\n",
              "      <td>0.41</td>\n",
              "      <td>0.27</td>\n",
              "      <td>2.6</td>\n",
              "      <td>0.033</td>\n",
              "      <td>25.0</td>\n",
              "      <td>85.0</td>\n",
              "      <td>0.99086</td>\n",
              "      <td>3.05</td>\n",
              "      <td>0.34</td>\n",
              "      <td>11.7</td>\n",
              "      <td>1</td>\n",
              "    </tr>\n",
              "    <tr>\n",
              "      <th>1</th>\n",
              "      <td>white</td>\n",
              "      <td>8.6</td>\n",
              "      <td>0.23</td>\n",
              "      <td>0.46</td>\n",
              "      <td>1.0</td>\n",
              "      <td>0.054</td>\n",
              "      <td>9.0</td>\n",
              "      <td>72.0</td>\n",
              "      <td>0.99410</td>\n",
              "      <td>2.95</td>\n",
              "      <td>0.49</td>\n",
              "      <td>9.1</td>\n",
              "      <td>1</td>\n",
              "    </tr>\n",
              "    <tr>\n",
              "      <th>2</th>\n",
              "      <td>white</td>\n",
              "      <td>6.6</td>\n",
              "      <td>0.32</td>\n",
              "      <td>0.26</td>\n",
              "      <td>4.6</td>\n",
              "      <td>0.031</td>\n",
              "      <td>26.0</td>\n",
              "      <td>120.0</td>\n",
              "      <td>0.99198</td>\n",
              "      <td>3.40</td>\n",
              "      <td>0.73</td>\n",
              "      <td>12.5</td>\n",
              "      <td>1</td>\n",
              "    </tr>\n",
              "    <tr>\n",
              "      <th>3</th>\n",
              "      <td>red</td>\n",
              "      <td>8.2</td>\n",
              "      <td>0.33</td>\n",
              "      <td>0.32</td>\n",
              "      <td>2.8</td>\n",
              "      <td>0.067</td>\n",
              "      <td>4.0</td>\n",
              "      <td>12.0</td>\n",
              "      <td>0.99473</td>\n",
              "      <td>3.30</td>\n",
              "      <td>0.76</td>\n",
              "      <td>12.8</td>\n",
              "      <td>1</td>\n",
              "    </tr>\n",
              "    <tr>\n",
              "      <th>4</th>\n",
              "      <td>white</td>\n",
              "      <td>6.9</td>\n",
              "      <td>0.28</td>\n",
              "      <td>0.24</td>\n",
              "      <td>2.1</td>\n",
              "      <td>0.034</td>\n",
              "      <td>49.0</td>\n",
              "      <td>121.0</td>\n",
              "      <td>0.98882</td>\n",
              "      <td>2.98</td>\n",
              "      <td>0.43</td>\n",
              "      <td>13.2</td>\n",
              "      <td>1</td>\n",
              "    </tr>\n",
              "  </tbody>\n",
              "</table>\n",
              "</div>"
            ],
            "text/plain": [
              "    type  fixed acidity  volatile acidity  citric acid  residual sugar  \\\n",
              "0  white            6.7              0.41         0.27             2.6   \n",
              "1  white            8.6              0.23         0.46             1.0   \n",
              "2  white            6.6              0.32         0.26             4.6   \n",
              "3    red            8.2              0.33         0.32             2.8   \n",
              "4  white            6.9              0.28         0.24             2.1   \n",
              "\n",
              "   chlorides  free sulfur dioxide  total sulfur dioxide  density    pH  \\\n",
              "0      0.033                 25.0                  85.0  0.99086  3.05   \n",
              "1      0.054                  9.0                  72.0  0.99410  2.95   \n",
              "2      0.031                 26.0                 120.0  0.99198  3.40   \n",
              "3      0.067                  4.0                  12.0  0.99473  3.30   \n",
              "4      0.034                 49.0                 121.0  0.98882  2.98   \n",
              "\n",
              "   sulphates  alcohol  aprovado  \n",
              "0       0.34     11.7         1  \n",
              "1       0.49      9.1         1  \n",
              "2       0.73     12.5         1  \n",
              "3       0.76     12.8         1  \n",
              "4       0.43     13.2         1  "
            ]
          },
          "execution_count": 2,
          "metadata": {},
          "output_type": "execute_result"
        }
      ],
      "source": [
        "# Primeiras linhas da base de treino\n",
        "dados_treino.head()"
      ]
    },
    {
      "cell_type": "markdown",
      "metadata": {
        "id": "RpwNQmQvJtLN"
      },
      "source": [
        "# O objetivo é selecionar vinhos com a marcação `1` (Aprovado)"
      ]
    },
    {
      "cell_type": "code",
      "execution_count": 5,
      "metadata": {
        "scrolled": false,
        "id": "KSVfCzVCJtLQ",
        "outputId": "445c2f7f-7cc1-4bba-8452-fb509a6584e0",
        "colab": {
          "base_uri": "https://localhost:8080/",
          "height": 206
        }
      },
      "outputs": [
        {
          "output_type": "execute_result",
          "data": {
            "text/html": [
              "\n",
              "  <div id=\"df-b9403e58-48be-41dd-a506-666e466bc7a8\">\n",
              "    <div class=\"colab-df-container\">\n",
              "      <div>\n",
              "<style scoped>\n",
              "    .dataframe tbody tr th:only-of-type {\n",
              "        vertical-align: middle;\n",
              "    }\n",
              "\n",
              "    .dataframe tbody tr th {\n",
              "        vertical-align: top;\n",
              "    }\n",
              "\n",
              "    .dataframe thead th {\n",
              "        text-align: right;\n",
              "    }\n",
              "</style>\n",
              "<table border=\"1\" class=\"dataframe\">\n",
              "  <thead>\n",
              "    <tr style=\"text-align: right;\">\n",
              "      <th></th>\n",
              "      <th>type</th>\n",
              "      <th>fixed acidity</th>\n",
              "      <th>volatile acidity</th>\n",
              "      <th>citric acid</th>\n",
              "      <th>residual sugar</th>\n",
              "      <th>chlorides</th>\n",
              "      <th>free sulfur dioxide</th>\n",
              "      <th>total sulfur dioxide</th>\n",
              "      <th>density</th>\n",
              "      <th>pH</th>\n",
              "      <th>sulphates</th>\n",
              "      <th>alcohol</th>\n",
              "      <th>aprovado</th>\n",
              "    </tr>\n",
              "  </thead>\n",
              "  <tbody>\n",
              "    <tr>\n",
              "      <th>0</th>\n",
              "      <td>white</td>\n",
              "      <td>6.7</td>\n",
              "      <td>0.41</td>\n",
              "      <td>0.27</td>\n",
              "      <td>2.6</td>\n",
              "      <td>0.033</td>\n",
              "      <td>25.0</td>\n",
              "      <td>85.0</td>\n",
              "      <td>0.99086</td>\n",
              "      <td>3.05</td>\n",
              "      <td>0.34</td>\n",
              "      <td>11.7</td>\n",
              "      <td>1</td>\n",
              "    </tr>\n",
              "    <tr>\n",
              "      <th>1</th>\n",
              "      <td>white</td>\n",
              "      <td>8.6</td>\n",
              "      <td>0.23</td>\n",
              "      <td>0.46</td>\n",
              "      <td>1.0</td>\n",
              "      <td>0.054</td>\n",
              "      <td>9.0</td>\n",
              "      <td>72.0</td>\n",
              "      <td>0.99410</td>\n",
              "      <td>2.95</td>\n",
              "      <td>0.49</td>\n",
              "      <td>9.1</td>\n",
              "      <td>1</td>\n",
              "    </tr>\n",
              "    <tr>\n",
              "      <th>2</th>\n",
              "      <td>white</td>\n",
              "      <td>6.6</td>\n",
              "      <td>0.32</td>\n",
              "      <td>0.26</td>\n",
              "      <td>4.6</td>\n",
              "      <td>0.031</td>\n",
              "      <td>26.0</td>\n",
              "      <td>120.0</td>\n",
              "      <td>0.99198</td>\n",
              "      <td>3.40</td>\n",
              "      <td>0.73</td>\n",
              "      <td>12.5</td>\n",
              "      <td>1</td>\n",
              "    </tr>\n",
              "    <tr>\n",
              "      <th>3</th>\n",
              "      <td>red</td>\n",
              "      <td>8.2</td>\n",
              "      <td>0.33</td>\n",
              "      <td>0.32</td>\n",
              "      <td>2.8</td>\n",
              "      <td>0.067</td>\n",
              "      <td>4.0</td>\n",
              "      <td>12.0</td>\n",
              "      <td>0.99473</td>\n",
              "      <td>3.30</td>\n",
              "      <td>0.76</td>\n",
              "      <td>12.8</td>\n",
              "      <td>1</td>\n",
              "    </tr>\n",
              "    <tr>\n",
              "      <th>4</th>\n",
              "      <td>white</td>\n",
              "      <td>6.9</td>\n",
              "      <td>0.28</td>\n",
              "      <td>0.24</td>\n",
              "      <td>2.1</td>\n",
              "      <td>0.034</td>\n",
              "      <td>49.0</td>\n",
              "      <td>121.0</td>\n",
              "      <td>0.98882</td>\n",
              "      <td>2.98</td>\n",
              "      <td>0.43</td>\n",
              "      <td>13.2</td>\n",
              "      <td>1</td>\n",
              "    </tr>\n",
              "  </tbody>\n",
              "</table>\n",
              "</div>\n",
              "      <button class=\"colab-df-convert\" onclick=\"convertToInteractive('df-b9403e58-48be-41dd-a506-666e466bc7a8')\"\n",
              "              title=\"Convert this dataframe to an interactive table.\"\n",
              "              style=\"display:none;\">\n",
              "        \n",
              "  <svg xmlns=\"http://www.w3.org/2000/svg\" height=\"24px\"viewBox=\"0 0 24 24\"\n",
              "       width=\"24px\">\n",
              "    <path d=\"M0 0h24v24H0V0z\" fill=\"none\"/>\n",
              "    <path d=\"M18.56 5.44l.94 2.06.94-2.06 2.06-.94-2.06-.94-.94-2.06-.94 2.06-2.06.94zm-11 1L8.5 8.5l.94-2.06 2.06-.94-2.06-.94L8.5 2.5l-.94 2.06-2.06.94zm10 10l.94 2.06.94-2.06 2.06-.94-2.06-.94-.94-2.06-.94 2.06-2.06.94z\"/><path d=\"M17.41 7.96l-1.37-1.37c-.4-.4-.92-.59-1.43-.59-.52 0-1.04.2-1.43.59L10.3 9.45l-7.72 7.72c-.78.78-.78 2.05 0 2.83L4 21.41c.39.39.9.59 1.41.59.51 0 1.02-.2 1.41-.59l7.78-7.78 2.81-2.81c.8-.78.8-2.07 0-2.86zM5.41 20L4 18.59l7.72-7.72 1.47 1.35L5.41 20z\"/>\n",
              "  </svg>\n",
              "      </button>\n",
              "      \n",
              "  <style>\n",
              "    .colab-df-container {\n",
              "      display:flex;\n",
              "      flex-wrap:wrap;\n",
              "      gap: 12px;\n",
              "    }\n",
              "\n",
              "    .colab-df-convert {\n",
              "      background-color: #E8F0FE;\n",
              "      border: none;\n",
              "      border-radius: 50%;\n",
              "      cursor: pointer;\n",
              "      display: none;\n",
              "      fill: #1967D2;\n",
              "      height: 32px;\n",
              "      padding: 0 0 0 0;\n",
              "      width: 32px;\n",
              "    }\n",
              "\n",
              "    .colab-df-convert:hover {\n",
              "      background-color: #E2EBFA;\n",
              "      box-shadow: 0px 1px 2px rgba(60, 64, 67, 0.3), 0px 1px 3px 1px rgba(60, 64, 67, 0.15);\n",
              "      fill: #174EA6;\n",
              "    }\n",
              "\n",
              "    [theme=dark] .colab-df-convert {\n",
              "      background-color: #3B4455;\n",
              "      fill: #D2E3FC;\n",
              "    }\n",
              "\n",
              "    [theme=dark] .colab-df-convert:hover {\n",
              "      background-color: #434B5C;\n",
              "      box-shadow: 0px 1px 3px 1px rgba(0, 0, 0, 0.15);\n",
              "      filter: drop-shadow(0px 1px 2px rgba(0, 0, 0, 0.3));\n",
              "      fill: #FFFFFF;\n",
              "    }\n",
              "  </style>\n",
              "\n",
              "      <script>\n",
              "        const buttonEl =\n",
              "          document.querySelector('#df-b9403e58-48be-41dd-a506-666e466bc7a8 button.colab-df-convert');\n",
              "        buttonEl.style.display =\n",
              "          google.colab.kernel.accessAllowed ? 'block' : 'none';\n",
              "\n",
              "        async function convertToInteractive(key) {\n",
              "          const element = document.querySelector('#df-b9403e58-48be-41dd-a506-666e466bc7a8');\n",
              "          const dataTable =\n",
              "            await google.colab.kernel.invokeFunction('convertToInteractive',\n",
              "                                                     [key], {});\n",
              "          if (!dataTable) return;\n",
              "\n",
              "          const docLinkHtml = 'Like what you see? Visit the ' +\n",
              "            '<a target=\"_blank\" href=https://colab.research.google.com/notebooks/data_table.ipynb>data table notebook</a>'\n",
              "            + ' to learn more about interactive tables.';\n",
              "          element.innerHTML = '';\n",
              "          dataTable['output_type'] = 'display_data';\n",
              "          await google.colab.output.renderOutput(dataTable, element);\n",
              "          const docLink = document.createElement('div');\n",
              "          docLink.innerHTML = docLinkHtml;\n",
              "          element.appendChild(docLink);\n",
              "        }\n",
              "      </script>\n",
              "    </div>\n",
              "  </div>\n",
              "  "
            ],
            "text/plain": [
              "    type  fixed acidity  volatile acidity  citric acid  residual sugar  \\\n",
              "0  white            6.7              0.41         0.27             2.6   \n",
              "1  white            8.6              0.23         0.46             1.0   \n",
              "2  white            6.6              0.32         0.26             4.6   \n",
              "3    red            8.2              0.33         0.32             2.8   \n",
              "4  white            6.9              0.28         0.24             2.1   \n",
              "\n",
              "   chlorides  free sulfur dioxide  total sulfur dioxide  density    pH  \\\n",
              "0      0.033                 25.0                  85.0  0.99086  3.05   \n",
              "1      0.054                  9.0                  72.0  0.99410  2.95   \n",
              "2      0.031                 26.0                 120.0  0.99198  3.40   \n",
              "3      0.067                  4.0                  12.0  0.99473  3.30   \n",
              "4      0.034                 49.0                 121.0  0.98882  2.98   \n",
              "\n",
              "   sulphates  alcohol  aprovado  \n",
              "0       0.34     11.7         1  \n",
              "1       0.49      9.1         1  \n",
              "2       0.73     12.5         1  \n",
              "3       0.76     12.8         1  \n",
              "4       0.43     13.2         1  "
            ]
          },
          "metadata": {},
          "execution_count": 5
        }
      ],
      "source": [
        "# Selecionando manualmente os aprovados\n",
        "vinhos_aprovados = dados_treino[dados_treino.aprovado==1]\n",
        "# Visualizando os dados\n",
        "vinhos_aprovados.head()"
      ]
    },
    {
      "cell_type": "markdown",
      "metadata": {
        "id": "oh9vTQXqJtLS"
      },
      "source": [
        "O problema é que na maior parte dos casos não teremos essa variável de antemão, portanto precisamos descobrir como essa marcação se relaciona com `outras variáveis` da base."
      ]
    },
    {
      "cell_type": "markdown",
      "metadata": {
        "id": "AuTb3NE9JtLT"
      },
      "source": [
        "### EDA\n",
        "\n",
        "Para ter uma noção geral da base e dos tipos de dados, utilizaremos o metodo .info()"
      ]
    },
    {
      "cell_type": "code",
      "execution_count": 6,
      "metadata": {
        "scrolled": false,
        "id": "TBKY-_k-JtLW",
        "outputId": "d8521919-0e3e-4cfc-de4a-46d2977b16c6",
        "colab": {
          "base_uri": "https://localhost:8080/"
        }
      },
      "outputs": [
        {
          "output_type": "stream",
          "name": "stdout",
          "text": [
            "<class 'pandas.core.frame.DataFrame'>\n",
            "Int64Index: 3820 entries, 0 to 3819\n",
            "Data columns (total 13 columns):\n",
            " #   Column                Non-Null Count  Dtype  \n",
            "---  ------                --------------  -----  \n",
            " 0   type                  3820 non-null   object \n",
            " 1   fixed acidity         3812 non-null   float64\n",
            " 2   volatile acidity      3815 non-null   float64\n",
            " 3   citric acid           3817 non-null   float64\n",
            " 4   residual sugar        3819 non-null   float64\n",
            " 5   chlorides             3818 non-null   float64\n",
            " 6   free sulfur dioxide   3820 non-null   float64\n",
            " 7   total sulfur dioxide  3820 non-null   float64\n",
            " 8   density               3820 non-null   float64\n",
            " 9   pH                    3813 non-null   float64\n",
            " 10  sulphates             3816 non-null   float64\n",
            " 11  alcohol               3820 non-null   float64\n",
            " 12  aprovado              3820 non-null   int64  \n",
            "dtypes: float64(11), int64(1), object(1)\n",
            "memory usage: 417.8+ KB\n"
          ]
        }
      ],
      "source": [
        "dados_treino.info()"
      ]
    },
    {
      "cell_type": "markdown",
      "metadata": {
        "id": "lQ67NQS8JtLa"
      },
      "source": [
        "Como temos muitas variáveis numéricas e contínuas, podemos descobrir as principais estatísticas da base usando outro método, o `.describe()`:"
      ]
    },
    {
      "cell_type": "code",
      "execution_count": 7,
      "metadata": {
        "id": "PChV6hMXJtLb",
        "outputId": "a06f50d4-84ef-4e42-9c36-71feff61918e",
        "colab": {
          "base_uri": "https://localhost:8080/",
          "height": 361
        }
      },
      "outputs": [
        {
          "output_type": "execute_result",
          "data": {
            "text/html": [
              "\n",
              "  <div id=\"df-0ee5ff06-5294-475b-9da3-8e4c91ca61f1\">\n",
              "    <div class=\"colab-df-container\">\n",
              "      <div>\n",
              "<style scoped>\n",
              "    .dataframe tbody tr th:only-of-type {\n",
              "        vertical-align: middle;\n",
              "    }\n",
              "\n",
              "    .dataframe tbody tr th {\n",
              "        vertical-align: top;\n",
              "    }\n",
              "\n",
              "    .dataframe thead th {\n",
              "        text-align: right;\n",
              "    }\n",
              "</style>\n",
              "<table border=\"1\" class=\"dataframe\">\n",
              "  <thead>\n",
              "    <tr style=\"text-align: right;\">\n",
              "      <th></th>\n",
              "      <th>fixed acidity</th>\n",
              "      <th>volatile acidity</th>\n",
              "      <th>citric acid</th>\n",
              "      <th>residual sugar</th>\n",
              "      <th>chlorides</th>\n",
              "      <th>free sulfur dioxide</th>\n",
              "      <th>total sulfur dioxide</th>\n",
              "      <th>density</th>\n",
              "      <th>pH</th>\n",
              "      <th>sulphates</th>\n",
              "      <th>alcohol</th>\n",
              "      <th>aprovado</th>\n",
              "    </tr>\n",
              "  </thead>\n",
              "  <tbody>\n",
              "    <tr>\n",
              "      <th>count</th>\n",
              "      <td>3812.000000</td>\n",
              "      <td>3815.000000</td>\n",
              "      <td>3817.000000</td>\n",
              "      <td>3819.000000</td>\n",
              "      <td>3818.000000</td>\n",
              "      <td>3820.000000</td>\n",
              "      <td>3820.000000</td>\n",
              "      <td>3820.000000</td>\n",
              "      <td>3813.000000</td>\n",
              "      <td>3816.000000</td>\n",
              "      <td>3820.000000</td>\n",
              "      <td>3820.000000</td>\n",
              "    </tr>\n",
              "    <tr>\n",
              "      <th>mean</th>\n",
              "      <td>7.234824</td>\n",
              "      <td>0.353751</td>\n",
              "      <td>0.315517</td>\n",
              "      <td>5.422427</td>\n",
              "      <td>0.057588</td>\n",
              "      <td>30.224738</td>\n",
              "      <td>115.938482</td>\n",
              "      <td>0.994884</td>\n",
              "      <td>3.215156</td>\n",
              "      <td>0.528305</td>\n",
              "      <td>10.366881</td>\n",
              "      <td>0.495026</td>\n",
              "    </tr>\n",
              "    <tr>\n",
              "      <th>std</th>\n",
              "      <td>1.278295</td>\n",
              "      <td>0.170932</td>\n",
              "      <td>0.148611</td>\n",
              "      <td>4.839934</td>\n",
              "      <td>0.035642</td>\n",
              "      <td>18.459657</td>\n",
              "      <td>57.503221</td>\n",
              "      <td>0.002990</td>\n",
              "      <td>0.161158</td>\n",
              "      <td>0.148777</td>\n",
              "      <td>1.166274</td>\n",
              "      <td>0.500041</td>\n",
              "    </tr>\n",
              "    <tr>\n",
              "      <th>min</th>\n",
              "      <td>3.800000</td>\n",
              "      <td>0.080000</td>\n",
              "      <td>0.000000</td>\n",
              "      <td>0.600000</td>\n",
              "      <td>0.009000</td>\n",
              "      <td>1.000000</td>\n",
              "      <td>6.000000</td>\n",
              "      <td>0.987110</td>\n",
              "      <td>2.720000</td>\n",
              "      <td>0.250000</td>\n",
              "      <td>8.000000</td>\n",
              "      <td>0.000000</td>\n",
              "    </tr>\n",
              "    <tr>\n",
              "      <th>25%</th>\n",
              "      <td>6.400000</td>\n",
              "      <td>0.240000</td>\n",
              "      <td>0.240000</td>\n",
              "      <td>1.800000</td>\n",
              "      <td>0.039000</td>\n",
              "      <td>16.000000</td>\n",
              "      <td>76.000000</td>\n",
              "      <td>0.992660</td>\n",
              "      <td>3.110000</td>\n",
              "      <td>0.430000</td>\n",
              "      <td>9.400000</td>\n",
              "      <td>0.000000</td>\n",
              "    </tr>\n",
              "    <tr>\n",
              "      <th>50%</th>\n",
              "      <td>7.000000</td>\n",
              "      <td>0.300000</td>\n",
              "      <td>0.310000</td>\n",
              "      <td>2.850000</td>\n",
              "      <td>0.048000</td>\n",
              "      <td>28.000000</td>\n",
              "      <td>119.000000</td>\n",
              "      <td>0.995165</td>\n",
              "      <td>3.200000</td>\n",
              "      <td>0.500000</td>\n",
              "      <td>10.100000</td>\n",
              "      <td>0.000000</td>\n",
              "    </tr>\n",
              "    <tr>\n",
              "      <th>75%</th>\n",
              "      <td>7.700000</td>\n",
              "      <td>0.430000</td>\n",
              "      <td>0.400000</td>\n",
              "      <td>8.100000</td>\n",
              "      <td>0.069000</td>\n",
              "      <td>41.000000</td>\n",
              "      <td>156.000000</td>\n",
              "      <td>0.997100</td>\n",
              "      <td>3.310000</td>\n",
              "      <td>0.590000</td>\n",
              "      <td>11.100000</td>\n",
              "      <td>1.000000</td>\n",
              "    </tr>\n",
              "    <tr>\n",
              "      <th>max</th>\n",
              "      <td>15.900000</td>\n",
              "      <td>1.580000</td>\n",
              "      <td>1.230000</td>\n",
              "      <td>65.800000</td>\n",
              "      <td>0.610000</td>\n",
              "      <td>289.000000</td>\n",
              "      <td>440.000000</td>\n",
              "      <td>1.038980</td>\n",
              "      <td>4.010000</td>\n",
              "      <td>2.000000</td>\n",
              "      <td>14.900000</td>\n",
              "      <td>1.000000</td>\n",
              "    </tr>\n",
              "  </tbody>\n",
              "</table>\n",
              "</div>\n",
              "      <button class=\"colab-df-convert\" onclick=\"convertToInteractive('df-0ee5ff06-5294-475b-9da3-8e4c91ca61f1')\"\n",
              "              title=\"Convert this dataframe to an interactive table.\"\n",
              "              style=\"display:none;\">\n",
              "        \n",
              "  <svg xmlns=\"http://www.w3.org/2000/svg\" height=\"24px\"viewBox=\"0 0 24 24\"\n",
              "       width=\"24px\">\n",
              "    <path d=\"M0 0h24v24H0V0z\" fill=\"none\"/>\n",
              "    <path d=\"M18.56 5.44l.94 2.06.94-2.06 2.06-.94-2.06-.94-.94-2.06-.94 2.06-2.06.94zm-11 1L8.5 8.5l.94-2.06 2.06-.94-2.06-.94L8.5 2.5l-.94 2.06-2.06.94zm10 10l.94 2.06.94-2.06 2.06-.94-2.06-.94-.94-2.06-.94 2.06-2.06.94z\"/><path d=\"M17.41 7.96l-1.37-1.37c-.4-.4-.92-.59-1.43-.59-.52 0-1.04.2-1.43.59L10.3 9.45l-7.72 7.72c-.78.78-.78 2.05 0 2.83L4 21.41c.39.39.9.59 1.41.59.51 0 1.02-.2 1.41-.59l7.78-7.78 2.81-2.81c.8-.78.8-2.07 0-2.86zM5.41 20L4 18.59l7.72-7.72 1.47 1.35L5.41 20z\"/>\n",
              "  </svg>\n",
              "      </button>\n",
              "      \n",
              "  <style>\n",
              "    .colab-df-container {\n",
              "      display:flex;\n",
              "      flex-wrap:wrap;\n",
              "      gap: 12px;\n",
              "    }\n",
              "\n",
              "    .colab-df-convert {\n",
              "      background-color: #E8F0FE;\n",
              "      border: none;\n",
              "      border-radius: 50%;\n",
              "      cursor: pointer;\n",
              "      display: none;\n",
              "      fill: #1967D2;\n",
              "      height: 32px;\n",
              "      padding: 0 0 0 0;\n",
              "      width: 32px;\n",
              "    }\n",
              "\n",
              "    .colab-df-convert:hover {\n",
              "      background-color: #E2EBFA;\n",
              "      box-shadow: 0px 1px 2px rgba(60, 64, 67, 0.3), 0px 1px 3px 1px rgba(60, 64, 67, 0.15);\n",
              "      fill: #174EA6;\n",
              "    }\n",
              "\n",
              "    [theme=dark] .colab-df-convert {\n",
              "      background-color: #3B4455;\n",
              "      fill: #D2E3FC;\n",
              "    }\n",
              "\n",
              "    [theme=dark] .colab-df-convert:hover {\n",
              "      background-color: #434B5C;\n",
              "      box-shadow: 0px 1px 3px 1px rgba(0, 0, 0, 0.15);\n",
              "      filter: drop-shadow(0px 1px 2px rgba(0, 0, 0, 0.3));\n",
              "      fill: #FFFFFF;\n",
              "    }\n",
              "  </style>\n",
              "\n",
              "      <script>\n",
              "        const buttonEl =\n",
              "          document.querySelector('#df-0ee5ff06-5294-475b-9da3-8e4c91ca61f1 button.colab-df-convert');\n",
              "        buttonEl.style.display =\n",
              "          google.colab.kernel.accessAllowed ? 'block' : 'none';\n",
              "\n",
              "        async function convertToInteractive(key) {\n",
              "          const element = document.querySelector('#df-0ee5ff06-5294-475b-9da3-8e4c91ca61f1');\n",
              "          const dataTable =\n",
              "            await google.colab.kernel.invokeFunction('convertToInteractive',\n",
              "                                                     [key], {});\n",
              "          if (!dataTable) return;\n",
              "\n",
              "          const docLinkHtml = 'Like what you see? Visit the ' +\n",
              "            '<a target=\"_blank\" href=https://colab.research.google.com/notebooks/data_table.ipynb>data table notebook</a>'\n",
              "            + ' to learn more about interactive tables.';\n",
              "          element.innerHTML = '';\n",
              "          dataTable['output_type'] = 'display_data';\n",
              "          await google.colab.output.renderOutput(dataTable, element);\n",
              "          const docLink = document.createElement('div');\n",
              "          docLink.innerHTML = docLinkHtml;\n",
              "          element.appendChild(docLink);\n",
              "        }\n",
              "      </script>\n",
              "    </div>\n",
              "  </div>\n",
              "  "
            ],
            "text/plain": [
              "       fixed acidity  volatile acidity  citric acid  residual sugar  \\\n",
              "count    3812.000000       3815.000000  3817.000000     3819.000000   \n",
              "mean        7.234824          0.353751     0.315517        5.422427   \n",
              "std         1.278295          0.170932     0.148611        4.839934   \n",
              "min         3.800000          0.080000     0.000000        0.600000   \n",
              "25%         6.400000          0.240000     0.240000        1.800000   \n",
              "50%         7.000000          0.300000     0.310000        2.850000   \n",
              "75%         7.700000          0.430000     0.400000        8.100000   \n",
              "max        15.900000          1.580000     1.230000       65.800000   \n",
              "\n",
              "         chlorides  free sulfur dioxide  total sulfur dioxide      density  \\\n",
              "count  3818.000000          3820.000000           3820.000000  3820.000000   \n",
              "mean      0.057588            30.224738            115.938482     0.994884   \n",
              "std       0.035642            18.459657             57.503221     0.002990   \n",
              "min       0.009000             1.000000              6.000000     0.987110   \n",
              "25%       0.039000            16.000000             76.000000     0.992660   \n",
              "50%       0.048000            28.000000            119.000000     0.995165   \n",
              "75%       0.069000            41.000000            156.000000     0.997100   \n",
              "max       0.610000           289.000000            440.000000     1.038980   \n",
              "\n",
              "                pH    sulphates      alcohol     aprovado  \n",
              "count  3813.000000  3816.000000  3820.000000  3820.000000  \n",
              "mean      3.215156     0.528305    10.366881     0.495026  \n",
              "std       0.161158     0.148777     1.166274     0.500041  \n",
              "min       2.720000     0.250000     8.000000     0.000000  \n",
              "25%       3.110000     0.430000     9.400000     0.000000  \n",
              "50%       3.200000     0.500000    10.100000     0.000000  \n",
              "75%       3.310000     0.590000    11.100000     1.000000  \n",
              "max       4.010000     2.000000    14.900000     1.000000  "
            ]
          },
          "metadata": {},
          "execution_count": 7
        }
      ],
      "source": [
        "# Aplicando o método describe\n",
        "dados_treino.describe()"
      ]
    },
    {
      "cell_type": "code",
      "execution_count": 9,
      "metadata": {
        "id": "zD8cWHPlJtLe",
        "outputId": "4b22b223-cc9e-4723-9103-3cf7c412db0b",
        "colab": {
          "base_uri": "https://localhost:8080/",
          "height": 284
        }
      },
      "outputs": [
        {
          "output_type": "display_data",
          "data": {
            "image/png": "[encoded data removed]",
            "text/plain": [
              "<Figure size 576x288 with 1 Axes>"
            ]
          },
          "metadata": {}
        }
      ],
      "source": [
        "import seaborn as sns\n",
        "sns.set(font_scale = 1.3) # Para aumentar o tamanho da fonte\n",
        "coluna = 'fixed acidity' # Coluna a ser representada\n",
        "\n",
        "\n",
        "sns.displot(\n",
        "    dados_treino[coluna], #Dados a serem representados. Selecionamos apenas a coluna de interesse\n",
        "    height=4, # Altura em polegadas do gráfico\n",
        "    aspect=2, # Proporção entre largura e altura do gráfico. Números > 1 representam retâgulos mais 'deitados'\n",
        "    kind='kde' # Distribuição contínua,\n",
        ")\n",
        "plt.ylabel('Densidade da distribuição')\n",
        "plt.show()"
      ]
    },
    {
      "cell_type": "markdown",
      "metadata": {
        "id": "tPE3utySJtLf"
      },
      "source": [
        "Trocando a coluna para `alcohol`:"
      ]
    },
    {
      "cell_type": "code",
      "execution_count": 10,
      "metadata": {
        "scrolled": true,
        "id": "YYbOMyeNJtLf",
        "outputId": "7ff719c8-a6c3-4f1d-cf9d-56078f1ba09a",
        "colab": {
          "base_uri": "https://localhost:8080/",
          "height": 284
        }
      },
      "outputs": [
        {
          "output_type": "display_data",
          "data": {
            "image/png": "[encoded data removed]",
            "text/plain": [
              "<Figure size 864x288 with 1 Axes>"
            ]
          },
          "metadata": {}
        }
      ],
      "source": [
        "# Importando o módulo Seaborn\n",
        "import seaborn as sns\n",
        "sns.set(font_scale = 1.3) # Para aumentar o tamanho da fonte\n",
        "coluna = 'alcohol' # Coluna a ser representada\n",
        "\n",
        "# Instanciando o Displot. Só precisamos da coluna que queremos representar\n",
        "sns.displot(\n",
        "    dados_treino[coluna], #Dados a serem representados. Selecionamos apenas a coluna de interesse\n",
        "    height=4, # Altura em polegadas do gráfico\n",
        "    aspect=3, # Proporção entre largura e altura do gráfico. Números > 1 representam retâgulos mais 'deitados'\n",
        "    kind='kde',\n",
        "\n",
        ")\n",
        "plt.show()"
      ]
    },
    {
      "cell_type": "code",
      "execution_count": 11,
      "metadata": {
        "id": "d7F0zunnJtLi",
        "outputId": "d8b046e1-d3fc-4952-d99d-4a0a3c5f1bb0",
        "colab": {
          "base_uri": "https://localhost:8080/"
        }
      },
      "outputs": [
        {
          "output_type": "execute_result",
          "data": {
            "text/plain": [
              "0       white\n",
              "1       white\n",
              "2       white\n",
              "3         red\n",
              "4       white\n",
              "        ...  \n",
              "3815      red\n",
              "3816      red\n",
              "3817      red\n",
              "3818      red\n",
              "3819      red\n",
              "Name: type, Length: 3820, dtype: object"
            ]
          },
          "metadata": {},
          "execution_count": 11
        }
      ],
      "source": [
        "# Representando a variável categórica da base\n",
        "dados_treino['type']"
      ]
    },
    {
      "cell_type": "code",
      "execution_count": 12,
      "metadata": {
        "scrolled": true,
        "id": "Wia4MUcNJtLk",
        "outputId": "682c8389-302b-405f-9de8-a42f36f44609",
        "colab": {
          "base_uri": "https://localhost:8080/"
        }
      },
      "outputs": [
        {
          "output_type": "execute_result",
          "data": {
            "text/plain": [
              "white    73.874346\n",
              "red      26.125654\n",
              "Name: type, dtype: float64"
            ]
          },
          "metadata": {},
          "execution_count": 12
        }
      ],
      "source": [
        "# Selecionando a coluna e contando registros\n",
        "dados_treino.type.value_counts(normalize=True)*100"
      ]
    },
    {
      "cell_type": "code",
      "execution_count": 13,
      "metadata": {
        "id": "V78WZ2PyJtLm",
        "outputId": "d2ab8956-29e2-4581-8a1e-40166ae47020",
        "colab": {
          "base_uri": "https://localhost:8080/"
        }
      },
      "outputs": [
        {
          "output_type": "execute_result",
          "data": {
            "text/plain": [
              "white    0.736287\n",
              "red      0.263713\n",
              "Name: type, dtype: float64"
            ]
          },
          "metadata": {},
          "execution_count": 13
        }
      ],
      "source": [
        "# Aplicando a mesma contagem para os dados de teste, agora normalizando\n",
        "dados_teste.type.value_counts(normalize=True)"
      ]
    },
    {
      "cell_type": "code",
      "execution_count": 14,
      "metadata": {
        "id": "E9zDjIhsJtLp",
        "outputId": "fe6cb57b-8a0f-4330-b3fc-fbe48cc4a24f",
        "colab": {
          "base_uri": "https://localhost:8080/",
          "height": 272
        }
      },
      "outputs": [
        {
          "output_type": "display_data",
          "data": {
            "image/png": "[encoded data removed]",
            "text/plain": [
              "<Figure size 432x288 with 1 Axes>"
            ]
          },
          "metadata": {}
        }
      ],
      "source": [
        "# Selecionando a coluna 'type' e construindo o histograma\n",
        "dados_treino.type.hist()\n",
        "plt.show()"
      ]
    },
    {
      "cell_type": "markdown",
      "metadata": {
        "id": "6rm5yIJuJtLq"
      },
      "source": [
        "### Visualizando relações entre variáveis\n"
      ]
    },
    {
      "cell_type": "code",
      "execution_count": 15,
      "metadata": {
        "id": "F2RLhLSbJtLq",
        "outputId": "e04702c6-fc09-4a92-b48b-f81d2cba292c",
        "colab": {
          "base_uri": "https://localhost:8080/",
          "height": 330
        }
      },
      "outputs": [
        {
          "output_type": "stream",
          "name": "stderr",
          "text": [
            "*c* argument looks like a single numeric RGB or RGBA sequence, which should be avoided as value-mapping will have precedence in case its length matches with *x* & *y*.  Please use the *color* keyword-argument or provide a 2-D array with a single row if you intend to specify the same RGB or RGBA value for all points.\n"
          ]
        },
        {
          "output_type": "display_data",
          "data": {
            "image/png": "[encoded data removed]",
            "text/plain": [
              "<Figure size 432x288 with 1 Axes>"
            ]
          },
          "metadata": {}
        }
      ],
      "source": [
        "# Selecionando dados e representando em dispersão\n",
        "dados_treino.plot(\n",
        "    x='fixed acidity', # Coluna para o eixo X\n",
        "    y='alcohol', # Coluna para o eixo Y\n",
        "    kind='scatter' # Tipo de gráfico. Para dispersão, usamos 'scatter'\n",
        ")\n",
        "plt.show()\n"
      ]
    },
    {
      "cell_type": "code",
      "execution_count": 16,
      "metadata": {
        "id": "l1If2Sb8JtLs",
        "outputId": "07db1c8d-a032-40c1-d376-5089162ca99a",
        "colab": {
          "base_uri": "https://localhost:8080/",
          "height": 330
        }
      },
      "outputs": [
        {
          "output_type": "stream",
          "name": "stderr",
          "text": [
            "*c* argument looks like a single numeric RGB or RGBA sequence, which should be avoided as value-mapping will have precedence in case its length matches with *x* & *y*.  Please use the *color* keyword-argument or provide a 2-D array with a single row if you intend to specify the same RGB or RGBA value for all points.\n"
          ]
        },
        {
          "output_type": "display_data",
          "data": {
            "image/png": "[encoded data removed]",
            "text/plain": [
              "<Figure size 432x288 with 1 Axes>"
            ]
          },
          "metadata": {}
        }
      ],
      "source": [
        "# Selecionando dados e representando em dispersão\n",
        "dados_treino.plot(\n",
        "    x='fixed acidity', # Coluna para o eixo X\n",
        "    y='density', # Coluna para o eixo Y\n",
        "    kind='scatter' # Tipo de gráfico. Para dispersão, usamos 'scatter'\n",
        ")\n",
        "plt.show()\n"
      ]
    },
    {
      "cell_type": "code",
      "execution_count": 17,
      "metadata": {
        "scrolled": true,
        "id": "_zeoV6GzJtLt",
        "outputId": "20690241-9d99-423a-8f96-02bc11a42d89",
        "colab": {
          "base_uri": "https://localhost:8080/",
          "height": 291
        }
      },
      "outputs": [
        {
          "output_type": "display_data",
          "data": {
            "image/png": "[encoded data removed]",
            "text/plain": [
              "<Figure size 432x288 with 1 Axes>"
            ]
          },
          "metadata": {}
        }
      ],
      "source": [
        "# Selecionando dados e representando em dispersão\n",
        "dados_treino.plot(\n",
        "    x='fixed acidity', # Coluna para o eixo X\n",
        "    y='density', # Coluna para o eixo Y\n",
        "    c='type', # Indicando que queremos diferenciar as cores (c) do gráfico pela coluna 'type'\n",
        "    kind='scatter' # Tipo de gráfico. Para dispersão, usamos 'scatter'\n",
        ")\n",
        "plt.show()"
      ]
    },
    {
      "cell_type": "markdown",
      "metadata": {
        "id": "guout8TsJtLu"
      },
      "source": [
        "Agora os dados de vinho tinto estão representados pelos pontos vermelhos, e os de vinho branco pelos pontos brancos."
      ]
    },
    {
      "cell_type": "code",
      "execution_count": 18,
      "metadata": {
        "scrolled": true,
        "id": "uhT1Y4bdJtLv",
        "outputId": "df72f31e-75d5-4717-a395-58e270352da1",
        "colab": {
          "base_uri": "https://localhost:8080/",
          "height": 367
        }
      },
      "outputs": [
        {
          "output_type": "display_data",
          "data": {
            "image/png": "[encoded data removed]",
            "text/plain": [
              "<Figure size 450.48x360 with 6 Axes>"
            ]
          },
          "metadata": {}
        }
      ],
      "source": [
        "# Analisando as variáveis Residual Sugar, Chloirides e Free Sulfur Dioxide\n",
        "sns.set_context(font_scale=0.7)\n",
        "sns.pairplot(dados_treino, # Dados para plotar\n",
        "             hue='type', #Cada gráfico separado pelo tipo, nossa variável categórica\n",
        "            vars=['residual sugar','chlorides'] # Variáveis a serem analisadas\n",
        "            )\n",
        "plt.show()"
      ]
    },
    {
      "cell_type": "markdown",
      "metadata": {
        "id": "x_z-8iiiJtLw"
      },
      "source": [
        "Neste gráfico, temos ao mesmo tempo \n",
        "* Nos gráficos da diagonal principal, a distribuição (`displot`) da variável de interesse\n",
        "* Nos gráficos fora da diagonal principal, os gráficos de dispersão entre as variáveis"
      ]
    },
    {
      "cell_type": "code",
      "execution_count": 19,
      "metadata": {
        "id": "FmeL-retJtLx",
        "outputId": "6efb0c51-c0ce-4f4f-f3f4-9f60460e0e8f",
        "colab": {
          "base_uri": "https://localhost:8080/",
          "height": 365
        }
      },
      "outputs": [
        {
          "output_type": "display_data",
          "data": {
            "image/png": "[encoded data removed]",
            "text/plain": [
              "<Figure size 450.48x360 with 6 Axes>"
            ]
          },
          "metadata": {}
        }
      ],
      "source": [
        "sns.set_context(font_scale=1.4)\n",
        "sns.pairplot(dados_treino, # Dados para plotar\n",
        "             hue='type', #Cada gráfico separado pelo tipo, nossa variável categórica\n",
        "            vars=['free sulfur dioxide','alcohol']# Variáveis a serem analisadas\n",
        "            )\n",
        "plt.show()"
      ]
    },
    {
      "cell_type": "markdown",
      "metadata": {
        "id": "5AsPz9QJJtLy"
      },
      "source": [
        "### Relações entre variáveis\n",
        "\n",
        "Para identificar correlações, podemos ser mais diretos e usar a matriz de correlações de Pearson do DataFrame, `.corr()`"
      ]
    },
    {
      "cell_type": "code",
      "execution_count": 20,
      "metadata": {
        "scrolled": true,
        "id": "VhgLVI11JtLz",
        "outputId": "04d1df32-3267-41da-c410-d6faca166ffe",
        "colab": {
          "base_uri": "https://localhost:8080/",
          "height": 504
        }
      },
      "outputs": [
        {
          "output_type": "execute_result",
          "data": {
            "text/html": [
              "\n",
              "  <div id=\"df-a14a9c8a-2d18-4841-818e-0b650d082e69\">\n",
              "    <div class=\"colab-df-container\">\n",
              "      <div>\n",
              "<style scoped>\n",
              "    .dataframe tbody tr th:only-of-type {\n",
              "        vertical-align: middle;\n",
              "    }\n",
              "\n",
              "    .dataframe tbody tr th {\n",
              "        vertical-align: top;\n",
              "    }\n",
              "\n",
              "    .dataframe thead th {\n",
              "        text-align: right;\n",
              "    }\n",
              "</style>\n",
              "<table border=\"1\" class=\"dataframe\">\n",
              "  <thead>\n",
              "    <tr style=\"text-align: right;\">\n",
              "      <th></th>\n",
              "      <th>fixed acidity</th>\n",
              "      <th>volatile acidity</th>\n",
              "      <th>citric acid</th>\n",
              "      <th>residual sugar</th>\n",
              "      <th>chlorides</th>\n",
              "      <th>free sulfur dioxide</th>\n",
              "      <th>total sulfur dioxide</th>\n",
              "      <th>density</th>\n",
              "      <th>pH</th>\n",
              "      <th>sulphates</th>\n",
              "      <th>alcohol</th>\n",
              "      <th>aprovado</th>\n",
              "    </tr>\n",
              "  </thead>\n",
              "  <tbody>\n",
              "    <tr>\n",
              "      <th>fixed acidity</th>\n",
              "      <td>1.000000</td>\n",
              "      <td>0.222785</td>\n",
              "      <td>0.309627</td>\n",
              "      <td>-0.115249</td>\n",
              "      <td>0.289936</td>\n",
              "      <td>-0.278518</td>\n",
              "      <td>-0.325076</td>\n",
              "      <td>0.455007</td>\n",
              "      <td>-0.254550</td>\n",
              "      <td>0.289676</td>\n",
              "      <td>-0.102279</td>\n",
              "      <td>-0.075287</td>\n",
              "    </tr>\n",
              "    <tr>\n",
              "      <th>volatile acidity</th>\n",
              "      <td>0.222785</td>\n",
              "      <td>1.000000</td>\n",
              "      <td>-0.388123</td>\n",
              "      <td>-0.205602</td>\n",
              "      <td>0.385803</td>\n",
              "      <td>-0.349255</td>\n",
              "      <td>-0.420528</td>\n",
              "      <td>0.278714</td>\n",
              "      <td>0.283761</td>\n",
              "      <td>0.235139</td>\n",
              "      <td>-0.049637</td>\n",
              "      <td>-0.250180</td>\n",
              "    </tr>\n",
              "    <tr>\n",
              "      <th>citric acid</th>\n",
              "      <td>0.309627</td>\n",
              "      <td>-0.388123</td>\n",
              "      <td>1.000000</td>\n",
              "      <td>0.175701</td>\n",
              "      <td>0.023442</td>\n",
              "      <td>0.163051</td>\n",
              "      <td>0.237000</td>\n",
              "      <td>0.100831</td>\n",
              "      <td>-0.364916</td>\n",
              "      <td>0.036574</td>\n",
              "      <td>-0.025742</td>\n",
              "      <td>0.069604</td>\n",
              "    </tr>\n",
              "    <tr>\n",
              "      <th>residual sugar</th>\n",
              "      <td>-0.115249</td>\n",
              "      <td>-0.205602</td>\n",
              "      <td>0.175701</td>\n",
              "      <td>1.000000</td>\n",
              "      <td>-0.128864</td>\n",
              "      <td>0.413484</td>\n",
              "      <td>0.497286</td>\n",
              "      <td>0.553032</td>\n",
              "      <td>-0.275806</td>\n",
              "      <td>-0.176995</td>\n",
              "      <td>-0.335601</td>\n",
              "      <td>-0.038862</td>\n",
              "    </tr>\n",
              "    <tr>\n",
              "      <th>chlorides</th>\n",
              "      <td>0.289936</td>\n",
              "      <td>0.385803</td>\n",
              "      <td>0.023442</td>\n",
              "      <td>-0.128864</td>\n",
              "      <td>1.000000</td>\n",
              "      <td>-0.181222</td>\n",
              "      <td>-0.265867</td>\n",
              "      <td>0.356728</td>\n",
              "      <td>0.037354</td>\n",
              "      <td>0.411112</td>\n",
              "      <td>-0.259419</td>\n",
              "      <td>-0.179230</td>\n",
              "    </tr>\n",
              "    <tr>\n",
              "      <th>free sulfur dioxide</th>\n",
              "      <td>-0.278518</td>\n",
              "      <td>-0.349255</td>\n",
              "      <td>0.163051</td>\n",
              "      <td>0.413484</td>\n",
              "      <td>-0.181222</td>\n",
              "      <td>1.000000</td>\n",
              "      <td>0.725463</td>\n",
              "      <td>0.029537</td>\n",
              "      <td>-0.159882</td>\n",
              "      <td>-0.172979</td>\n",
              "      <td>-0.160953</td>\n",
              "      <td>0.042836</td>\n",
              "    </tr>\n",
              "    <tr>\n",
              "      <th>total sulfur dioxide</th>\n",
              "      <td>-0.325076</td>\n",
              "      <td>-0.420528</td>\n",
              "      <td>0.237000</td>\n",
              "      <td>0.497286</td>\n",
              "      <td>-0.265867</td>\n",
              "      <td>0.725463</td>\n",
              "      <td>1.000000</td>\n",
              "      <td>0.030814</td>\n",
              "      <td>-0.256720</td>\n",
              "      <td>-0.251869</td>\n",
              "      <td>-0.253002</td>\n",
              "      <td>-0.056357</td>\n",
              "    </tr>\n",
              "    <tr>\n",
              "      <th>density</th>\n",
              "      <td>0.455007</td>\n",
              "      <td>0.278714</td>\n",
              "      <td>0.100831</td>\n",
              "      <td>0.553032</td>\n",
              "      <td>0.356728</td>\n",
              "      <td>0.029537</td>\n",
              "      <td>0.030814</td>\n",
              "      <td>1.000000</td>\n",
              "      <td>0.003035</td>\n",
              "      <td>0.266175</td>\n",
              "      <td>-0.669189</td>\n",
              "      <td>-0.278794</td>\n",
              "    </tr>\n",
              "    <tr>\n",
              "      <th>pH</th>\n",
              "      <td>-0.254550</td>\n",
              "      <td>0.283761</td>\n",
              "      <td>-0.364916</td>\n",
              "      <td>-0.275806</td>\n",
              "      <td>0.037354</td>\n",
              "      <td>-0.159882</td>\n",
              "      <td>-0.256720</td>\n",
              "      <td>0.003035</td>\n",
              "      <td>1.000000</td>\n",
              "      <td>0.186242</td>\n",
              "      <td>0.141885</td>\n",
              "      <td>0.029202</td>\n",
              "    </tr>\n",
              "    <tr>\n",
              "      <th>sulphates</th>\n",
              "      <td>0.289676</td>\n",
              "      <td>0.235139</td>\n",
              "      <td>0.036574</td>\n",
              "      <td>-0.176995</td>\n",
              "      <td>0.411112</td>\n",
              "      <td>-0.172979</td>\n",
              "      <td>-0.251869</td>\n",
              "      <td>0.266175</td>\n",
              "      <td>0.186242</td>\n",
              "      <td>1.000000</td>\n",
              "      <td>-0.009753</td>\n",
              "      <td>0.042009</td>\n",
              "    </tr>\n",
              "    <tr>\n",
              "      <th>alcohol</th>\n",
              "      <td>-0.102279</td>\n",
              "      <td>-0.049637</td>\n",
              "      <td>-0.025742</td>\n",
              "      <td>-0.335601</td>\n",
              "      <td>-0.259419</td>\n",
              "      <td>-0.160953</td>\n",
              "      <td>-0.253002</td>\n",
              "      <td>-0.669189</td>\n",
              "      <td>0.141885</td>\n",
              "      <td>-0.009753</td>\n",
              "      <td>1.000000</td>\n",
              "      <td>0.426294</td>\n",
              "    </tr>\n",
              "    <tr>\n",
              "      <th>aprovado</th>\n",
              "      <td>-0.075287</td>\n",
              "      <td>-0.250180</td>\n",
              "      <td>0.069604</td>\n",
              "      <td>-0.038862</td>\n",
              "      <td>-0.179230</td>\n",
              "      <td>0.042836</td>\n",
              "      <td>-0.056357</td>\n",
              "      <td>-0.278794</td>\n",
              "      <td>0.029202</td>\n",
              "      <td>0.042009</td>\n",
              "      <td>0.426294</td>\n",
              "      <td>1.000000</td>\n",
              "    </tr>\n",
              "  </tbody>\n",
              "</table>\n",
              "</div>\n",
              "      <button class=\"colab-df-convert\" onclick=\"convertToInteractive('df-a14a9c8a-2d18-4841-818e-0b650d082e69')\"\n",
              "              title=\"Convert this dataframe to an interactive table.\"\n",
              "              style=\"display:none;\">\n",
              "        \n",
              "  <svg xmlns=\"http://www.w3.org/2000/svg\" height=\"24px\"viewBox=\"0 0 24 24\"\n",
              "       width=\"24px\">\n",
              "    <path d=\"M0 0h24v24H0V0z\" fill=\"none\"/>\n",
              "    <path d=\"M18.56 5.44l.94 2.06.94-2.06 2.06-.94-2.06-.94-.94-2.06-.94 2.06-2.06.94zm-11 1L8.5 8.5l.94-2.06 2.06-.94-2.06-.94L8.5 2.5l-.94 2.06-2.06.94zm10 10l.94 2.06.94-2.06 2.06-.94-2.06-.94-.94-2.06-.94 2.06-2.06.94z\"/><path d=\"M17.41 7.96l-1.37-1.37c-.4-.4-.92-.59-1.43-.59-.52 0-1.04.2-1.43.59L10.3 9.45l-7.72 7.72c-.78.78-.78 2.05 0 2.83L4 21.41c.39.39.9.59 1.41.59.51 0 1.02-.2 1.41-.59l7.78-7.78 2.81-2.81c.8-.78.8-2.07 0-2.86zM5.41 20L4 18.59l7.72-7.72 1.47 1.35L5.41 20z\"/>\n",
              "  </svg>\n",
              "      </button>\n",
              "      \n",
              "  <style>\n",
              "    .colab-df-container {\n",
              "      display:flex;\n",
              "      flex-wrap:wrap;\n",
              "      gap: 12px;\n",
              "    }\n",
              "\n",
              "    .colab-df-convert {\n",
              "      background-color: #E8F0FE;\n",
              "      border: none;\n",
              "      border-radius: 50%;\n",
              "      cursor: pointer;\n",
              "      display: none;\n",
              "      fill: #1967D2;\n",
              "      height: 32px;\n",
              "      padding: 0 0 0 0;\n",
              "      width: 32px;\n",
              "    }\n",
              "\n",
              "    .colab-df-convert:hover {\n",
              "      background-color: #E2EBFA;\n",
              "      box-shadow: 0px 1px 2px rgba(60, 64, 67, 0.3), 0px 1px 3px 1px rgba(60, 64, 67, 0.15);\n",
              "      fill: #174EA6;\n",
              "    }\n",
              "\n",
              "    [theme=dark] .colab-df-convert {\n",
              "      background-color: #3B4455;\n",
              "      fill: #D2E3FC;\n",
              "    }\n",
              "\n",
              "    [theme=dark] .colab-df-convert:hover {\n",
              "      background-color: #434B5C;\n",
              "      box-shadow: 0px 1px 3px 1px rgba(0, 0, 0, 0.15);\n",
              "      filter: drop-shadow(0px 1px 2px rgba(0, 0, 0, 0.3));\n",
              "      fill: #FFFFFF;\n",
              "    }\n",
              "  </style>\n",
              "\n",
              "      <script>\n",
              "        const buttonEl =\n",
              "          document.querySelector('#df-a14a9c8a-2d18-4841-818e-0b650d082e69 button.colab-df-convert');\n",
              "        buttonEl.style.display =\n",
              "          google.colab.kernel.accessAllowed ? 'block' : 'none';\n",
              "\n",
              "        async function convertToInteractive(key) {\n",
              "          const element = document.querySelector('#df-a14a9c8a-2d18-4841-818e-0b650d082e69');\n",
              "          const dataTable =\n",
              "            await google.colab.kernel.invokeFunction('convertToInteractive',\n",
              "                                                     [key], {});\n",
              "          if (!dataTable) return;\n",
              "\n",
              "          const docLinkHtml = 'Like what you see? Visit the ' +\n",
              "            '<a target=\"_blank\" href=https://colab.research.google.com/notebooks/data_table.ipynb>data table notebook</a>'\n",
              "            + ' to learn more about interactive tables.';\n",
              "          element.innerHTML = '';\n",
              "          dataTable['output_type'] = 'display_data';\n",
              "          await google.colab.output.renderOutput(dataTable, element);\n",
              "          const docLink = document.createElement('div');\n",
              "          docLink.innerHTML = docLinkHtml;\n",
              "          element.appendChild(docLink);\n",
              "        }\n",
              "      </script>\n",
              "    </div>\n",
              "  </div>\n",
              "  "
            ],
            "text/plain": [
              "                      fixed acidity  volatile acidity  citric acid  \\\n",
              "fixed acidity              1.000000          0.222785     0.309627   \n",
              "volatile acidity           0.222785          1.000000    -0.388123   \n",
              "citric acid                0.309627         -0.388123     1.000000   \n",
              "residual sugar            -0.115249         -0.205602     0.175701   \n",
              "chlorides                  0.289936          0.385803     0.023442   \n",
              "free sulfur dioxide       -0.278518         -0.349255     0.163051   \n",
              "total sulfur dioxide      -0.325076         -0.420528     0.237000   \n",
              "density                    0.455007          0.278714     0.100831   \n",
              "pH                        -0.254550          0.283761    -0.364916   \n",
              "sulphates                  0.289676          0.235139     0.036574   \n",
              "alcohol                   -0.102279         -0.049637    -0.025742   \n",
              "aprovado                  -0.075287         -0.250180     0.069604   \n",
              "\n",
              "                      residual sugar  chlorides  free sulfur dioxide  \\\n",
              "fixed acidity              -0.115249   0.289936            -0.278518   \n",
              "volatile acidity           -0.205602   0.385803            -0.349255   \n",
              "citric acid                 0.175701   0.023442             0.163051   \n",
              "residual sugar              1.000000  -0.128864             0.413484   \n",
              "chlorides                  -0.128864   1.000000            -0.181222   \n",
              "free sulfur dioxide         0.413484  -0.181222             1.000000   \n",
              "total sulfur dioxide        0.497286  -0.265867             0.725463   \n",
              "density                     0.553032   0.356728             0.029537   \n",
              "pH                         -0.275806   0.037354            -0.159882   \n",
              "sulphates                  -0.176995   0.411112            -0.172979   \n",
              "alcohol                    -0.335601  -0.259419            -0.160953   \n",
              "aprovado                   -0.038862  -0.179230             0.042836   \n",
              "\n",
              "                      total sulfur dioxide   density        pH  sulphates  \\\n",
              "fixed acidity                    -0.325076  0.455007 -0.254550   0.289676   \n",
              "volatile acidity                 -0.420528  0.278714  0.283761   0.235139   \n",
              "citric acid                       0.237000  0.100831 -0.364916   0.036574   \n",
              "residual sugar                    0.497286  0.553032 -0.275806  -0.176995   \n",
              "chlorides                        -0.265867  0.356728  0.037354   0.411112   \n",
              "free sulfur dioxide               0.725463  0.029537 -0.159882  -0.172979   \n",
              "total sulfur dioxide              1.000000  0.030814 -0.256720  -0.251869   \n",
              "density                           0.030814  1.000000  0.003035   0.266175   \n",
              "pH                               -0.256720  0.003035  1.000000   0.186242   \n",
              "sulphates                        -0.251869  0.266175  0.186242   1.000000   \n",
              "alcohol                          -0.253002 -0.669189  0.141885  -0.009753   \n",
              "aprovado                         -0.056357 -0.278794  0.029202   0.042009   \n",
              "\n",
              "                       alcohol  aprovado  \n",
              "fixed acidity        -0.102279 -0.075287  \n",
              "volatile acidity     -0.049637 -0.250180  \n",
              "citric acid          -0.025742  0.069604  \n",
              "residual sugar       -0.335601 -0.038862  \n",
              "chlorides            -0.259419 -0.179230  \n",
              "free sulfur dioxide  -0.160953  0.042836  \n",
              "total sulfur dioxide -0.253002 -0.056357  \n",
              "density              -0.669189 -0.278794  \n",
              "pH                    0.141885  0.029202  \n",
              "sulphates            -0.009753  0.042009  \n",
              "alcohol               1.000000  0.426294  \n",
              "aprovado              0.426294  1.000000  "
            ]
          },
          "metadata": {},
          "execution_count": 20
        }
      ],
      "source": [
        "# Correlações entre as features numéricas\n",
        "dados_treino.corr()"
      ]
    },
    {
      "cell_type": "code",
      "execution_count": 21,
      "metadata": {
        "scrolled": false,
        "id": "45wHmZrXJtL0",
        "outputId": "f16664c4-4296-46cf-8c67-a00031c6a84e",
        "colab": {
          "base_uri": "https://localhost:8080/",
          "height": 608
        }
      },
      "outputs": [
        {
          "output_type": "display_data",
          "data": {
            "image/png": "[encoded data removed]",
            "text/plain": [
              "<Figure size 864x576 with 2 Axes>"
            ]
          },
          "metadata": {}
        }
      ],
      "source": [
        "# Plotando a matriz de correlações usando um Heatmap para dar cor aos números\n",
        "sns.set_context(font_scale=1.9)\n",
        "plt.figure(figsize=(12,8))\n",
        "sns.heatmap(\n",
        "    dados_treino.corr(), #Fonte dos dados, nossa matriz de correlação\n",
        "    annot=True, #Anotar os valores das correlações nas caixinhas coloridas\n",
        "    fmt='.2f', # Formato float de 2 dígitos, para arredondar os números\n",
        "    cmap='RdBu', # Mapa de cores do vermelho (menor) para o azul (maior)\n",
        "    mask=np.triu( # Faz uma matriz triangular\n",
        "        np.ones_like(dados_treino.corr()) # usando como base uma matriz de '1's, do mesmo tamanho que a matriz de correlação\n",
        "    ) # A máscara vai então 'apagar' a diagonal superior da matriz\n",
        "           )\n",
        "plt.show()"
      ]
    },
    {
      "cell_type": "markdown",
      "metadata": {
        "id": "gqQQUyHcJtL3"
      },
      "source": [
        "A correlação entre teor alcoolico e aprovação é alta."
      ]
    },
    {
      "cell_type": "code",
      "source": [
        "# Listando as colunas numéricas\n",
        "colunas_numericas = [['fixed acidity','volatile acidity','citric acid','residual sugar'],\n",
        "                    ['chlorides','free sulfur dioxide','total sulfur dioxide','density'],\n",
        "                    ['pH','sulphates','alcohol','']] # Essa última célula está vazia pois temos 11 colunas numéricas"
      ],
      "metadata": {
        "id": "TkQFbKXBb9C1"
      },
      "execution_count": 23,
      "outputs": []
    },
    {
      "cell_type": "code",
      "execution_count": 24,
      "metadata": {
        "id": "UUzeGyRxJtL9",
        "outputId": "156e74a4-ad37-4dde-8f60-ab09b305da7f",
        "colab": {
          "base_uri": "https://localhost:8080/"
        }
      },
      "outputs": [
        {
          "output_type": "execute_result",
          "data": {
            "text/plain": [
              "[['fixed acidity', 'volatile acidity', 'citric acid', 'residual sugar'],\n",
              " ['chlorides', 'free sulfur dioxide', 'total sulfur dioxide', 'density'],\n",
              " ['pH', 'sulphates', 'alcohol', '']]"
            ]
          },
          "metadata": {},
          "execution_count": 24
        }
      ],
      "source": [
        "colunas_numericas"
      ]
    },
    {
      "cell_type": "code",
      "execution_count": 25,
      "metadata": {
        "scrolled": false,
        "id": "To2TCK88JtL_",
        "outputId": "2fad5136-daf4-4629-8ce5-788ca3c7b8f6",
        "colab": {
          "base_uri": "https://localhost:8080/",
          "height": 724
        }
      },
      "outputs": [
        {
          "output_type": "display_data",
          "data": {
            "image/png": "[encoded data removed]",
            "text/plain": [
              "<Figure size 1440x864 with 12 Axes>"
            ]
          },
          "metadata": {}
        }
      ],
      "source": [
        "sns.set(font_scale=1.2)\n",
        "# Cria os 'espaços' para que possamos plotar os gráficos. Faremos um grid de 3 linhas por 4 colunas (o 3,4 na função)\n",
        "fig, eixo = plt.subplots(3,4,figsize=(20,12)) # Criando uma figura e 12 eixos, em uma matriz de 3 linhas x 4 colunas\n",
        "# Para cada linha \n",
        "for linha in range(3):\n",
        "    # Para cada coluna\n",
        "    for coluna in range(4):\n",
        "        # Verifica se existe um nome de coluna na lista 'colunas_numericas'\n",
        "        if colunas_numericas[linha][coluna] != '':\n",
        "            # Se sim faz o plot do Boxplot naquela linha e coluna, indicando no eixo vertical/y sempre a variável 'aprovado'\n",
        "            sns.boxplot(data=dados_treino,x=colunas_numericas[linha][coluna],y='aprovado',ax=eixo[linha][coluna],orient='h')"
      ]
    },
    {
      "cell_type": "markdown",
      "metadata": {
        "id": "4dYA9G27JtMB"
      },
      "source": [
        "### 3.1 Tratamento de missings"
      ]
    },
    {
      "cell_type": "code",
      "execution_count": null,
      "metadata": {
        "scrolled": true,
        "id": "AyqP2QXJJtMC",
        "outputId": "b1713dfa-7449-49ad-f0a0-6654d2397210"
      },
      "outputs": [
        {
          "data": {
            "text/html": [
              "<div>\n",
              "<style scoped>\n",
              "    .dataframe tbody tr th:only-of-type {\n",
              "        vertical-align: middle;\n",
              "    }\n",
              "\n",
              "    .dataframe tbody tr th {\n",
              "        vertical-align: top;\n",
              "    }\n",
              "\n",
              "    .dataframe thead th {\n",
              "        text-align: right;\n",
              "    }\n",
              "</style>\n",
              "<table border=\"1\" class=\"dataframe\">\n",
              "  <thead>\n",
              "    <tr style=\"text-align: right;\">\n",
              "      <th></th>\n",
              "      <th>type</th>\n",
              "      <th>fixed acidity</th>\n",
              "      <th>volatile acidity</th>\n",
              "      <th>citric acid</th>\n",
              "      <th>residual sugar</th>\n",
              "      <th>chlorides</th>\n",
              "      <th>free sulfur dioxide</th>\n",
              "      <th>total sulfur dioxide</th>\n",
              "      <th>density</th>\n",
              "      <th>pH</th>\n",
              "      <th>sulphates</th>\n",
              "      <th>alcohol</th>\n",
              "      <th>aprovado</th>\n",
              "    </tr>\n",
              "  </thead>\n",
              "  <tbody>\n",
              "    <tr>\n",
              "      <th>0</th>\n",
              "      <td>False</td>\n",
              "      <td>False</td>\n",
              "      <td>False</td>\n",
              "      <td>False</td>\n",
              "      <td>False</td>\n",
              "      <td>False</td>\n",
              "      <td>False</td>\n",
              "      <td>False</td>\n",
              "      <td>False</td>\n",
              "      <td>False</td>\n",
              "      <td>False</td>\n",
              "      <td>False</td>\n",
              "      <td>False</td>\n",
              "    </tr>\n",
              "    <tr>\n",
              "      <th>1</th>\n",
              "      <td>False</td>\n",
              "      <td>False</td>\n",
              "      <td>False</td>\n",
              "      <td>False</td>\n",
              "      <td>False</td>\n",
              "      <td>False</td>\n",
              "      <td>False</td>\n",
              "      <td>False</td>\n",
              "      <td>False</td>\n",
              "      <td>False</td>\n",
              "      <td>False</td>\n",
              "      <td>False</td>\n",
              "      <td>False</td>\n",
              "    </tr>\n",
              "    <tr>\n",
              "      <th>2</th>\n",
              "      <td>False</td>\n",
              "      <td>False</td>\n",
              "      <td>False</td>\n",
              "      <td>False</td>\n",
              "      <td>False</td>\n",
              "      <td>False</td>\n",
              "      <td>False</td>\n",
              "      <td>False</td>\n",
              "      <td>False</td>\n",
              "      <td>False</td>\n",
              "      <td>False</td>\n",
              "      <td>False</td>\n",
              "      <td>False</td>\n",
              "    </tr>\n",
              "    <tr>\n",
              "      <th>3</th>\n",
              "      <td>False</td>\n",
              "      <td>False</td>\n",
              "      <td>False</td>\n",
              "      <td>False</td>\n",
              "      <td>False</td>\n",
              "      <td>False</td>\n",
              "      <td>False</td>\n",
              "      <td>False</td>\n",
              "      <td>False</td>\n",
              "      <td>False</td>\n",
              "      <td>False</td>\n",
              "      <td>False</td>\n",
              "      <td>False</td>\n",
              "    </tr>\n",
              "    <tr>\n",
              "      <th>4</th>\n",
              "      <td>False</td>\n",
              "      <td>False</td>\n",
              "      <td>False</td>\n",
              "      <td>False</td>\n",
              "      <td>False</td>\n",
              "      <td>False</td>\n",
              "      <td>False</td>\n",
              "      <td>False</td>\n",
              "      <td>False</td>\n",
              "      <td>False</td>\n",
              "      <td>False</td>\n",
              "      <td>False</td>\n",
              "      <td>False</td>\n",
              "    </tr>\n",
              "    <tr>\n",
              "      <th>...</th>\n",
              "      <td>...</td>\n",
              "      <td>...</td>\n",
              "      <td>...</td>\n",
              "      <td>...</td>\n",
              "      <td>...</td>\n",
              "      <td>...</td>\n",
              "      <td>...</td>\n",
              "      <td>...</td>\n",
              "      <td>...</td>\n",
              "      <td>...</td>\n",
              "      <td>...</td>\n",
              "      <td>...</td>\n",
              "      <td>...</td>\n",
              "    </tr>\n",
              "    <tr>\n",
              "      <th>3815</th>\n",
              "      <td>False</td>\n",
              "      <td>False</td>\n",
              "      <td>False</td>\n",
              "      <td>False</td>\n",
              "      <td>False</td>\n",
              "      <td>False</td>\n",
              "      <td>False</td>\n",
              "      <td>False</td>\n",
              "      <td>False</td>\n",
              "      <td>False</td>\n",
              "      <td>False</td>\n",
              "      <td>False</td>\n",
              "      <td>False</td>\n",
              "    </tr>\n",
              "    <tr>\n",
              "      <th>3816</th>\n",
              "      <td>False</td>\n",
              "      <td>False</td>\n",
              "      <td>False</td>\n",
              "      <td>False</td>\n",
              "      <td>False</td>\n",
              "      <td>False</td>\n",
              "      <td>False</td>\n",
              "      <td>False</td>\n",
              "      <td>False</td>\n",
              "      <td>False</td>\n",
              "      <td>False</td>\n",
              "      <td>False</td>\n",
              "      <td>False</td>\n",
              "    </tr>\n",
              "    <tr>\n",
              "      <th>3817</th>\n",
              "      <td>False</td>\n",
              "      <td>False</td>\n",
              "      <td>False</td>\n",
              "      <td>False</td>\n",
              "      <td>False</td>\n",
              "      <td>False</td>\n",
              "      <td>False</td>\n",
              "      <td>False</td>\n",
              "      <td>False</td>\n",
              "      <td>False</td>\n",
              "      <td>False</td>\n",
              "      <td>False</td>\n",
              "      <td>False</td>\n",
              "    </tr>\n",
              "    <tr>\n",
              "      <th>3818</th>\n",
              "      <td>False</td>\n",
              "      <td>False</td>\n",
              "      <td>False</td>\n",
              "      <td>False</td>\n",
              "      <td>False</td>\n",
              "      <td>False</td>\n",
              "      <td>False</td>\n",
              "      <td>False</td>\n",
              "      <td>False</td>\n",
              "      <td>False</td>\n",
              "      <td>False</td>\n",
              "      <td>False</td>\n",
              "      <td>False</td>\n",
              "    </tr>\n",
              "    <tr>\n",
              "      <th>3819</th>\n",
              "      <td>False</td>\n",
              "      <td>False</td>\n",
              "      <td>False</td>\n",
              "      <td>False</td>\n",
              "      <td>False</td>\n",
              "      <td>False</td>\n",
              "      <td>False</td>\n",
              "      <td>False</td>\n",
              "      <td>False</td>\n",
              "      <td>False</td>\n",
              "      <td>False</td>\n",
              "      <td>False</td>\n",
              "      <td>False</td>\n",
              "    </tr>\n",
              "  </tbody>\n",
              "</table>\n",
              "<p>3820 rows × 13 columns</p>\n",
              "</div>"
            ],
            "text/plain": [
              "       type  fixed acidity  volatile acidity  citric acid  residual sugar  \\\n",
              "0     False          False             False        False           False   \n",
              "1     False          False             False        False           False   \n",
              "2     False          False             False        False           False   \n",
              "3     False          False             False        False           False   \n",
              "4     False          False             False        False           False   \n",
              "...     ...            ...               ...          ...             ...   \n",
              "3815  False          False             False        False           False   \n",
              "3816  False          False             False        False           False   \n",
              "3817  False          False             False        False           False   \n",
              "3818  False          False             False        False           False   \n",
              "3819  False          False             False        False           False   \n",
              "\n",
              "      chlorides  free sulfur dioxide  total sulfur dioxide  density     pH  \\\n",
              "0         False                False                 False    False  False   \n",
              "1         False                False                 False    False  False   \n",
              "2         False                False                 False    False  False   \n",
              "3         False                False                 False    False  False   \n",
              "4         False                False                 False    False  False   \n",
              "...         ...                  ...                   ...      ...    ...   \n",
              "3815      False                False                 False    False  False   \n",
              "3816      False                False                 False    False  False   \n",
              "3817      False                False                 False    False  False   \n",
              "3818      False                False                 False    False  False   \n",
              "3819      False                False                 False    False  False   \n",
              "\n",
              "      sulphates  alcohol  aprovado  \n",
              "0         False    False     False  \n",
              "1         False    False     False  \n",
              "2         False    False     False  \n",
              "3         False    False     False  \n",
              "4         False    False     False  \n",
              "...         ...      ...       ...  \n",
              "3815      False    False     False  \n",
              "3816      False    False     False  \n",
              "3817      False    False     False  \n",
              "3818      False    False     False  \n",
              "3819      False    False     False  \n",
              "\n",
              "[3820 rows x 13 columns]"
            ]
          },
          "execution_count": 24,
          "metadata": {},
          "output_type": "execute_result"
        }
      ],
      "source": [
        "dados_treino.isna()  "
      ]
    },
    {
      "cell_type": "markdown",
      "metadata": {
        "id": "xQaZetcCJtMC"
      },
      "source": [
        "Para entender os missings por coluna, podemos calcular a média:"
      ]
    },
    {
      "cell_type": "code",
      "execution_count": null,
      "metadata": {
        "scrolled": true,
        "id": "kP6pI2VUJtMD",
        "outputId": "4a48ca9b-46ae-4187-efef-74b6792dbdf9"
      },
      "outputs": [
        {
          "data": {
            "text/plain": [
              "type                    0.000000\n",
              "fixed acidity           0.209424\n",
              "volatile acidity        0.130890\n",
              "citric acid             0.078534\n",
              "residual sugar          0.026178\n",
              "chlorides               0.052356\n",
              "free sulfur dioxide     0.000000\n",
              "total sulfur dioxide    0.000000\n",
              "density                 0.000000\n",
              "pH                      0.183246\n",
              "sulphates               0.104712\n",
              "alcohol                 0.000000\n",
              "aprovado                0.000000\n",
              "dtype: float64"
            ]
          },
          "execution_count": 25,
          "metadata": {},
          "output_type": "execute_result"
        }
      ],
      "source": [
        "dados_treino.isna().mean(axis=0)*100 #Multiplicando por 100 para transformar em percentual"
      ]
    },
    {
      "cell_type": "code",
      "execution_count": 27,
      "metadata": {
        "scrolled": true,
        "id": "BI62QPiOJtMD",
        "outputId": "4194c01f-df85-402d-a8d6-7dffdd65f9ea",
        "colab": {
          "base_uri": "https://localhost:8080/"
        }
      },
      "outputs": [
        {
          "output_type": "execute_result",
          "data": {
            "text/plain": [
              "type                    0.0\n",
              "fixed acidity           0.0\n",
              "volatile acidity        0.0\n",
              "citric acid             0.0\n",
              "residual sugar          0.0\n",
              "chlorides               0.0\n",
              "free sulfur dioxide     0.0\n",
              "total sulfur dioxide    0.0\n",
              "density                 0.0\n",
              "pH                      0.0\n",
              "sulphates               0.0\n",
              "alcohol                 0.0\n",
              "aprovado                0.0\n",
              "dtype: float64"
            ]
          },
          "metadata": {},
          "execution_count": 27
        }
      ],
      "source": [
        "dados_teste.isna().mean()"
      ]
    },
    {
      "cell_type": "markdown",
      "metadata": {
        "id": "hFekXxbLJtME"
      },
      "source": [
        "Não temos missings nos dados de teste, e temos apenas 0.20% de missings no máximo nos dados de treino!\n"
      ]
    },
    {
      "cell_type": "markdown",
      "metadata": {
        "id": "rnSC0-h3JtMJ"
      },
      "source": [
        "Em situações como essa, onde os missings representam uma baixa proporção da base, podemos apenas **excluir os registros**. Podemos fazer isso usando o método `.dropna()` do Pandas\n"
      ]
    },
    {
      "cell_type": "code",
      "execution_count": 26,
      "metadata": {
        "scrolled": false,
        "id": "VJqv1shCJtMJ",
        "outputId": "116dc776-2623-43b2-a739-f09b05f4850f",
        "colab": {
          "base_uri": "https://localhost:8080/"
        }
      },
      "outputs": [
        {
          "output_type": "execute_result",
          "data": {
            "text/plain": [
              "type                    0.0\n",
              "fixed acidity           0.0\n",
              "volatile acidity        0.0\n",
              "citric acid             0.0\n",
              "residual sugar          0.0\n",
              "chlorides               0.0\n",
              "free sulfur dioxide     0.0\n",
              "total sulfur dioxide    0.0\n",
              "density                 0.0\n",
              "pH                      0.0\n",
              "sulphates               0.0\n",
              "alcohol                 0.0\n",
              "aprovado                0.0\n",
              "dtype: float64"
            ]
          },
          "metadata": {},
          "execution_count": 26
        }
      ],
      "source": [
        "dados_treino_mis = dados_treino.dropna()\n",
        "\n",
        "# Testando para ver se excluiu mesmo\n",
        "dados_treino_mis.isna().mean()"
      ]
    },
    {
      "cell_type": "markdown",
      "metadata": {
        "id": "MQ-RqYA8JtMK"
      },
      "source": [
        "## 4. Usando análises para encontrar os vinhos aprovados\n",
        "\n",
        "Agora que temos um bom repositório de técnicas, vamos usá-las para tentar encontrar os melhores vinhos!"
      ]
    },
    {
      "cell_type": "markdown",
      "metadata": {
        "id": "mbeBy1jyJtMK"
      },
      "source": [
        "### Mas como medir o sucesso?\n",
        "\n",
        "\n",
        "Se calcularmos a `média`da coluna `aprovado`, veremos o percentual de vinhos da base que são aprovados"
      ]
    },
    {
      "cell_type": "code",
      "execution_count": 28,
      "metadata": {
        "id": "gTPy4orwJtML",
        "outputId": "8c6e9bc8-e29a-4923-85a5-2bf8a9664f0d",
        "colab": {
          "base_uri": "https://localhost:8080/"
        }
      },
      "outputs": [
        {
          "output_type": "execute_result",
          "data": {
            "text/plain": [
              "0.4950261780104712"
            ]
          },
          "metadata": {},
          "execution_count": 28
        }
      ],
      "source": [
        "# A média de uma coluna que possui '0's e '1's nos dará o percentual de '1's\n",
        "dados_treino.aprovado.mean()"
      ]
    },
    {
      "cell_type": "markdown",
      "metadata": {
        "id": "wZ645lBqJtMM"
      },
      "source": [
        "Temos então **49,5%** dos vinhos aprovados. Vamos então descobrir como filtrar vinhos aprovados baseados nas outras propriedades"
      ]
    },
    {
      "cell_type": "code",
      "execution_count": 29,
      "metadata": {
        "scrolled": true,
        "id": "78OwxQVNJtMN",
        "outputId": "8c12ac0c-9418-4408-a32b-6e6d467dc6a7",
        "colab": {
          "base_uri": "https://localhost:8080/"
        }
      },
      "outputs": [
        {
          "output_type": "execute_result",
          "data": {
            "text/plain": [
              "<pandas.core.groupby.generic.DataFrameGroupBy object at 0x7f2a299dcb10>"
            ]
          },
          "metadata": {},
          "execution_count": 29
        }
      ],
      "source": [
        "# Fazendo apenas o groupby, o que o Python retorna é um agrupamento\n",
        "dados_treino.groupby('type')"
      ]
    },
    {
      "cell_type": "code",
      "execution_count": 30,
      "metadata": {
        "scrolled": true,
        "id": "FMYi8v07JtMN",
        "outputId": "78f77c38-d12f-4ef8-888a-a1d5f7dde76a",
        "colab": {
          "base_uri": "https://localhost:8080/"
        }
      },
      "outputs": [
        {
          "output_type": "execute_result",
          "data": {
            "text/plain": [
              "type\n",
              "red      0.406814\n",
              "white    0.526223\n",
              "Name: aprovado, dtype: float64"
            ]
          },
          "metadata": {},
          "execution_count": 30
        }
      ],
      "source": [
        "dados_treino.groupby('type')['aprovado'].mean() # Média da coluna 'agrupado' pela variável 'type'"
      ]
    },
    {
      "cell_type": "markdown",
      "metadata": {
        "id": "XBjeNYSgJtMO"
      },
      "source": [
        "Baseado nesta avaliação, qual tipo de vinho parece ter maior aprovação? Vinho Branco"
      ]
    },
    {
      "cell_type": "code",
      "execution_count": 31,
      "metadata": {
        "id": "cDcNG2X5JtMP"
      },
      "outputs": [],
      "source": [
        "# Separando uma variável contínua em faixas\n",
        "coluna = 'chlorides'\n",
        "\n",
        "# Criando uma nova coluna que é a faixa da coluna 'chlorides'\n",
        "\n",
        "dados_treino[coluna+'_faixa'] = pd.cut(\n",
        "    dados_treino[coluna], # Coluna de interesse\n",
        "    bins=5 # Número de faixas\n",
        ")\n",
        "# Se quiser cortar em quantis, usar o pd.qcut"
      ]
    },
    {
      "cell_type": "markdown",
      "metadata": {
        "id": "DfYGpb3qJtMP"
      },
      "source": [
        "Com a faixa da coluna criada, podemos usar a mesma lógica do `.groupby()`"
      ]
    },
    {
      "cell_type": "code",
      "execution_count": 32,
      "metadata": {
        "scrolled": true,
        "id": "gHbvNOwgJtMQ",
        "outputId": "d97bb8a3-ea7f-444a-ae17-6ebf8bdcb236",
        "colab": {
          "base_uri": "https://localhost:8080/",
          "height": 237
        }
      },
      "outputs": [
        {
          "output_type": "execute_result",
          "data": {
            "text/html": [
              "\n",
              "  <div id=\"df-96afb2b8-7695-4f95-b99f-b1c89a69dc85\">\n",
              "    <div class=\"colab-df-container\">\n",
              "      <div>\n",
              "<style scoped>\n",
              "    .dataframe tbody tr th:only-of-type {\n",
              "        vertical-align: middle;\n",
              "    }\n",
              "\n",
              "    .dataframe tbody tr th {\n",
              "        vertical-align: top;\n",
              "    }\n",
              "\n",
              "    .dataframe thead th {\n",
              "        text-align: right;\n",
              "    }\n",
              "</style>\n",
              "<table border=\"1\" class=\"dataframe\">\n",
              "  <thead>\n",
              "    <tr style=\"text-align: right;\">\n",
              "      <th></th>\n",
              "      <th>contagem</th>\n",
              "      <th>fração vinhos aprovados</th>\n",
              "    </tr>\n",
              "    <tr>\n",
              "      <th>chlorides_faixa</th>\n",
              "      <th></th>\n",
              "      <th></th>\n",
              "    </tr>\n",
              "  </thead>\n",
              "  <tbody>\n",
              "    <tr>\n",
              "      <th>(0.0084, 0.129]</th>\n",
              "      <td>3717</td>\n",
              "      <td>0.500404</td>\n",
              "    </tr>\n",
              "    <tr>\n",
              "      <th>(0.129, 0.249]</th>\n",
              "      <td>81</td>\n",
              "      <td>0.320988</td>\n",
              "    </tr>\n",
              "    <tr>\n",
              "      <th>(0.249, 0.37]</th>\n",
              "      <td>12</td>\n",
              "      <td>0.250000</td>\n",
              "    </tr>\n",
              "    <tr>\n",
              "      <th>(0.37, 0.49]</th>\n",
              "      <td>7</td>\n",
              "      <td>0.142857</td>\n",
              "    </tr>\n",
              "    <tr>\n",
              "      <th>(0.49, 0.61]</th>\n",
              "      <td>1</td>\n",
              "      <td>0.000000</td>\n",
              "    </tr>\n",
              "  </tbody>\n",
              "</table>\n",
              "</div>\n",
              "      <button class=\"colab-df-convert\" onclick=\"convertToInteractive('df-96afb2b8-7695-4f95-b99f-b1c89a69dc85')\"\n",
              "              title=\"Convert this dataframe to an interactive table.\"\n",
              "              style=\"display:none;\">\n",
              "        \n",
              "  <svg xmlns=\"http://www.w3.org/2000/svg\" height=\"24px\"viewBox=\"0 0 24 24\"\n",
              "       width=\"24px\">\n",
              "    <path d=\"M0 0h24v24H0V0z\" fill=\"none\"/>\n",
              "    <path d=\"M18.56 5.44l.94 2.06.94-2.06 2.06-.94-2.06-.94-.94-2.06-.94 2.06-2.06.94zm-11 1L8.5 8.5l.94-2.06 2.06-.94-2.06-.94L8.5 2.5l-.94 2.06-2.06.94zm10 10l.94 2.06.94-2.06 2.06-.94-2.06-.94-.94-2.06-.94 2.06-2.06.94z\"/><path d=\"M17.41 7.96l-1.37-1.37c-.4-.4-.92-.59-1.43-.59-.52 0-1.04.2-1.43.59L10.3 9.45l-7.72 7.72c-.78.78-.78 2.05 0 2.83L4 21.41c.39.39.9.59 1.41.59.51 0 1.02-.2 1.41-.59l7.78-7.78 2.81-2.81c.8-.78.8-2.07 0-2.86zM5.41 20L4 18.59l7.72-7.72 1.47 1.35L5.41 20z\"/>\n",
              "  </svg>\n",
              "      </button>\n",
              "      \n",
              "  <style>\n",
              "    .colab-df-container {\n",
              "      display:flex;\n",
              "      flex-wrap:wrap;\n",
              "      gap: 12px;\n",
              "    }\n",
              "\n",
              "    .colab-df-convert {\n",
              "      background-color: #E8F0FE;\n",
              "      border: none;\n",
              "      border-radius: 50%;\n",
              "      cursor: pointer;\n",
              "      display: none;\n",
              "      fill: #1967D2;\n",
              "      height: 32px;\n",
              "      padding: 0 0 0 0;\n",
              "      width: 32px;\n",
              "    }\n",
              "\n",
              "    .colab-df-convert:hover {\n",
              "      background-color: #E2EBFA;\n",
              "      box-shadow: 0px 1px 2px rgba(60, 64, 67, 0.3), 0px 1px 3px 1px rgba(60, 64, 67, 0.15);\n",
              "      fill: #174EA6;\n",
              "    }\n",
              "\n",
              "    [theme=dark] .colab-df-convert {\n",
              "      background-color: #3B4455;\n",
              "      fill: #D2E3FC;\n",
              "    }\n",
              "\n",
              "    [theme=dark] .colab-df-convert:hover {\n",
              "      background-color: #434B5C;\n",
              "      box-shadow: 0px 1px 3px 1px rgba(0, 0, 0, 0.15);\n",
              "      filter: drop-shadow(0px 1px 2px rgba(0, 0, 0, 0.3));\n",
              "      fill: #FFFFFF;\n",
              "    }\n",
              "  </style>\n",
              "\n",
              "      <script>\n",
              "        const buttonEl =\n",
              "          document.querySelector('#df-96afb2b8-7695-4f95-b99f-b1c89a69dc85 button.colab-df-convert');\n",
              "        buttonEl.style.display =\n",
              "          google.colab.kernel.accessAllowed ? 'block' : 'none';\n",
              "\n",
              "        async function convertToInteractive(key) {\n",
              "          const element = document.querySelector('#df-96afb2b8-7695-4f95-b99f-b1c89a69dc85');\n",
              "          const dataTable =\n",
              "            await google.colab.kernel.invokeFunction('convertToInteractive',\n",
              "                                                     [key], {});\n",
              "          if (!dataTable) return;\n",
              "\n",
              "          const docLinkHtml = 'Like what you see? Visit the ' +\n",
              "            '<a target=\"_blank\" href=https://colab.research.google.com/notebooks/data_table.ipynb>data table notebook</a>'\n",
              "            + ' to learn more about interactive tables.';\n",
              "          element.innerHTML = '';\n",
              "          dataTable['output_type'] = 'display_data';\n",
              "          await google.colab.output.renderOutput(dataTable, element);\n",
              "          const docLink = document.createElement('div');\n",
              "          docLink.innerHTML = docLinkHtml;\n",
              "          element.appendChild(docLink);\n",
              "        }\n",
              "      </script>\n",
              "    </div>\n",
              "  </div>\n",
              "  "
            ],
            "text/plain": [
              "                 contagem  fração vinhos aprovados\n",
              "chlorides_faixa                                   \n",
              "(0.0084, 0.129]      3717                 0.500404\n",
              "(0.129, 0.249]         81                 0.320988\n",
              "(0.249, 0.37]          12                 0.250000\n",
              "(0.37, 0.49]            7                 0.142857\n",
              "(0.49, 0.61]            1                 0.000000"
            ]
          },
          "metadata": {},
          "execution_count": 32
        }
      ],
      "source": [
        "# Executando o .groupby() da coluna criada\n",
        "agrupamento = dados_treino.groupby('chlorides_faixa')['aprovado'].agg(['count','mean'])\n",
        "# Renomeando colunas\n",
        "agrupamento.columns = ['contagem','fração vinhos aprovados']\n",
        "agrupamento"
      ]
    },
    {
      "cell_type": "markdown",
      "metadata": {
        "id": "4CadhuFFJtMR"
      },
      "source": [
        "Baseado nesta seleção, qual faixa da coluna `chlorides` parece ser mais promissora para selecionar vinhos aprovados?"
      ]
    },
    {
      "cell_type": "markdown",
      "metadata": {
        "id": "HRGmEiwHJtMR"
      },
      "source": [
        "Repetindo a lógica para a coluna `alcohol`"
      ]
    },
    {
      "cell_type": "code",
      "execution_count": null,
      "metadata": {
        "id": "tKznEt4nJtMS"
      },
      "outputs": [],
      "source": [
        "# Replicando o raciocínio com outra coluna\n",
        "coluna = 'alcohol'\n",
        "\n",
        "# Criando uma nova coluna que é a faixa da coluna 'chlorides'\n",
        "\n",
        "dados_treino[coluna+'_faixa'] = pd.cut(\n",
        "    dados_treino[coluna], # Coluna de interesse\n",
        "    bins=5 # Número de faixas\n",
        ")\n",
        "\n",
        "# Executando o .groupby() da coluna criada\n",
        "agrupamento = dados_treino.groupby(coluna+'_faixa')['aprovado'].agg(['count','mean'])\n",
        "# Renomeando colunas\n",
        "agrupamento.columns = ['contagem','fração vinhos aprovados']\n",
        "agrupamento"
      ]
    },
    {
      "cell_type": "markdown",
      "metadata": {
        "id": "GLl_8gXkJtMT"
      },
      "source": [
        "Qual é a melhor faixa de seleção para a coluna `alcohol`?"
      ]
    },
    {
      "cell_type": "markdown",
      "metadata": {
        "id": "wWFq8R1FJtMT"
      },
      "source": [
        "### Automatizando o processo de seleção\n",
        "\n",
        "Para automatizar o processo, podemos criar algumas regras de melhores faixas. Para temos uma quantidade interessante de vinhos, podemos escolher as seguintes regras para `cada coluna`:\n",
        "* Faixas que tenham um número mínimo de vinhos\n",
        "* Dentre as faixas acima, escolher aquela que tenha a maior fração de vinhos aprovados\n",
        "\n",
        "Vamos então construir a lógica de seleção! Começando pela variável `chlorides`:"
      ]
    },
    {
      "cell_type": "markdown",
      "metadata": {
        "id": "A7vwqWWfJtMU"
      },
      "source": [
        "#### Passo 1 - Selecionar a variável e fazer a coluna de faixas"
      ]
    },
    {
      "cell_type": "code",
      "execution_count": 34,
      "metadata": {
        "id": "CGSS3UzlJtMU",
        "outputId": "0b21e8e7-1006-4fdb-bf77-bf2acfb77bd0",
        "colab": {
          "base_uri": "https://localhost:8080/",
          "height": 267
        }
      },
      "outputs": [
        {
          "output_type": "execute_result",
          "data": {
            "text/html": [
              "\n",
              "  <div id=\"df-86209a7c-950b-4fff-8199-2afdeb76b569\">\n",
              "    <div class=\"colab-df-container\">\n",
              "      <div>\n",
              "<style scoped>\n",
              "    .dataframe tbody tr th:only-of-type {\n",
              "        vertical-align: middle;\n",
              "    }\n",
              "\n",
              "    .dataframe tbody tr th {\n",
              "        vertical-align: top;\n",
              "    }\n",
              "\n",
              "    .dataframe thead th {\n",
              "        text-align: right;\n",
              "    }\n",
              "</style>\n",
              "<table border=\"1\" class=\"dataframe\">\n",
              "  <thead>\n",
              "    <tr style=\"text-align: right;\">\n",
              "      <th></th>\n",
              "      <th>type</th>\n",
              "      <th>fixed acidity</th>\n",
              "      <th>volatile acidity</th>\n",
              "      <th>citric acid</th>\n",
              "      <th>residual sugar</th>\n",
              "      <th>chlorides</th>\n",
              "      <th>free sulfur dioxide</th>\n",
              "      <th>total sulfur dioxide</th>\n",
              "      <th>density</th>\n",
              "      <th>pH</th>\n",
              "      <th>sulphates</th>\n",
              "      <th>alcohol</th>\n",
              "      <th>aprovado</th>\n",
              "      <th>chlorides_faixa</th>\n",
              "      <th>alcohol_faixa</th>\n",
              "    </tr>\n",
              "  </thead>\n",
              "  <tbody>\n",
              "    <tr>\n",
              "      <th>0</th>\n",
              "      <td>white</td>\n",
              "      <td>6.7</td>\n",
              "      <td>0.41</td>\n",
              "      <td>0.27</td>\n",
              "      <td>2.6</td>\n",
              "      <td>0.033</td>\n",
              "      <td>25.0</td>\n",
              "      <td>85.0</td>\n",
              "      <td>0.99086</td>\n",
              "      <td>3.05</td>\n",
              "      <td>0.34</td>\n",
              "      <td>11.7</td>\n",
              "      <td>1</td>\n",
              "      <td>(0.0084, 0.129]</td>\n",
              "      <td>(10.76, 12.14]</td>\n",
              "    </tr>\n",
              "    <tr>\n",
              "      <th>1</th>\n",
              "      <td>white</td>\n",
              "      <td>8.6</td>\n",
              "      <td>0.23</td>\n",
              "      <td>0.46</td>\n",
              "      <td>1.0</td>\n",
              "      <td>0.054</td>\n",
              "      <td>9.0</td>\n",
              "      <td>72.0</td>\n",
              "      <td>0.99410</td>\n",
              "      <td>2.95</td>\n",
              "      <td>0.49</td>\n",
              "      <td>9.1</td>\n",
              "      <td>1</td>\n",
              "      <td>(0.0084, 0.129]</td>\n",
              "      <td>(7.993, 9.38]</td>\n",
              "    </tr>\n",
              "    <tr>\n",
              "      <th>2</th>\n",
              "      <td>white</td>\n",
              "      <td>6.6</td>\n",
              "      <td>0.32</td>\n",
              "      <td>0.26</td>\n",
              "      <td>4.6</td>\n",
              "      <td>0.031</td>\n",
              "      <td>26.0</td>\n",
              "      <td>120.0</td>\n",
              "      <td>0.99198</td>\n",
              "      <td>3.40</td>\n",
              "      <td>0.73</td>\n",
              "      <td>12.5</td>\n",
              "      <td>1</td>\n",
              "      <td>(0.0084, 0.129]</td>\n",
              "      <td>(12.14, 13.52]</td>\n",
              "    </tr>\n",
              "    <tr>\n",
              "      <th>3</th>\n",
              "      <td>red</td>\n",
              "      <td>8.2</td>\n",
              "      <td>0.33</td>\n",
              "      <td>0.32</td>\n",
              "      <td>2.8</td>\n",
              "      <td>0.067</td>\n",
              "      <td>4.0</td>\n",
              "      <td>12.0</td>\n",
              "      <td>0.99473</td>\n",
              "      <td>3.30</td>\n",
              "      <td>0.76</td>\n",
              "      <td>12.8</td>\n",
              "      <td>1</td>\n",
              "      <td>(0.0084, 0.129]</td>\n",
              "      <td>(12.14, 13.52]</td>\n",
              "    </tr>\n",
              "    <tr>\n",
              "      <th>4</th>\n",
              "      <td>white</td>\n",
              "      <td>6.9</td>\n",
              "      <td>0.28</td>\n",
              "      <td>0.24</td>\n",
              "      <td>2.1</td>\n",
              "      <td>0.034</td>\n",
              "      <td>49.0</td>\n",
              "      <td>121.0</td>\n",
              "      <td>0.98882</td>\n",
              "      <td>2.98</td>\n",
              "      <td>0.43</td>\n",
              "      <td>13.2</td>\n",
              "      <td>1</td>\n",
              "      <td>(0.0084, 0.129]</td>\n",
              "      <td>(12.14, 13.52]</td>\n",
              "    </tr>\n",
              "  </tbody>\n",
              "</table>\n",
              "</div>\n",
              "      <button class=\"colab-df-convert\" onclick=\"convertToInteractive('df-86209a7c-950b-4fff-8199-2afdeb76b569')\"\n",
              "              title=\"Convert this dataframe to an interactive table.\"\n",
              "              style=\"display:none;\">\n",
              "        \n",
              "  <svg xmlns=\"http://www.w3.org/2000/svg\" height=\"24px\"viewBox=\"0 0 24 24\"\n",
              "       width=\"24px\">\n",
              "    <path d=\"M0 0h24v24H0V0z\" fill=\"none\"/>\n",
              "    <path d=\"M18.56 5.44l.94 2.06.94-2.06 2.06-.94-2.06-.94-.94-2.06-.94 2.06-2.06.94zm-11 1L8.5 8.5l.94-2.06 2.06-.94-2.06-.94L8.5 2.5l-.94 2.06-2.06.94zm10 10l.94 2.06.94-2.06 2.06-.94-2.06-.94-.94-2.06-.94 2.06-2.06.94z\"/><path d=\"M17.41 7.96l-1.37-1.37c-.4-.4-.92-.59-1.43-.59-.52 0-1.04.2-1.43.59L10.3 9.45l-7.72 7.72c-.78.78-.78 2.05 0 2.83L4 21.41c.39.39.9.59 1.41.59.51 0 1.02-.2 1.41-.59l7.78-7.78 2.81-2.81c.8-.78.8-2.07 0-2.86zM5.41 20L4 18.59l7.72-7.72 1.47 1.35L5.41 20z\"/>\n",
              "  </svg>\n",
              "      </button>\n",
              "      \n",
              "  <style>\n",
              "    .colab-df-container {\n",
              "      display:flex;\n",
              "      flex-wrap:wrap;\n",
              "      gap: 12px;\n",
              "    }\n",
              "\n",
              "    .colab-df-convert {\n",
              "      background-color: #E8F0FE;\n",
              "      border: none;\n",
              "      border-radius: 50%;\n",
              "      cursor: pointer;\n",
              "      display: none;\n",
              "      fill: #1967D2;\n",
              "      height: 32px;\n",
              "      padding: 0 0 0 0;\n",
              "      width: 32px;\n",
              "    }\n",
              "\n",
              "    .colab-df-convert:hover {\n",
              "      background-color: #E2EBFA;\n",
              "      box-shadow: 0px 1px 2px rgba(60, 64, 67, 0.3), 0px 1px 3px 1px rgba(60, 64, 67, 0.15);\n",
              "      fill: #174EA6;\n",
              "    }\n",
              "\n",
              "    [theme=dark] .colab-df-convert {\n",
              "      background-color: #3B4455;\n",
              "      fill: #D2E3FC;\n",
              "    }\n",
              "\n",
              "    [theme=dark] .colab-df-convert:hover {\n",
              "      background-color: #434B5C;\n",
              "      box-shadow: 0px 1px 3px 1px rgba(0, 0, 0, 0.15);\n",
              "      filter: drop-shadow(0px 1px 2px rgba(0, 0, 0, 0.3));\n",
              "      fill: #FFFFFF;\n",
              "    }\n",
              "  </style>\n",
              "\n",
              "      <script>\n",
              "        const buttonEl =\n",
              "          document.querySelector('#df-86209a7c-950b-4fff-8199-2afdeb76b569 button.colab-df-convert');\n",
              "        buttonEl.style.display =\n",
              "          google.colab.kernel.accessAllowed ? 'block' : 'none';\n",
              "\n",
              "        async function convertToInteractive(key) {\n",
              "          const element = document.querySelector('#df-86209a7c-950b-4fff-8199-2afdeb76b569');\n",
              "          const dataTable =\n",
              "            await google.colab.kernel.invokeFunction('convertToInteractive',\n",
              "                                                     [key], {});\n",
              "          if (!dataTable) return;\n",
              "\n",
              "          const docLinkHtml = 'Like what you see? Visit the ' +\n",
              "            '<a target=\"_blank\" href=https://colab.research.google.com/notebooks/data_table.ipynb>data table notebook</a>'\n",
              "            + ' to learn more about interactive tables.';\n",
              "          element.innerHTML = '';\n",
              "          dataTable['output_type'] = 'display_data';\n",
              "          await google.colab.output.renderOutput(dataTable, element);\n",
              "          const docLink = document.createElement('div');\n",
              "          docLink.innerHTML = docLinkHtml;\n",
              "          element.appendChild(docLink);\n",
              "        }\n",
              "      </script>\n",
              "    </div>\n",
              "  </div>\n",
              "  "
            ],
            "text/plain": [
              "    type  fixed acidity  volatile acidity  citric acid  residual sugar  \\\n",
              "0  white            6.7              0.41         0.27             2.6   \n",
              "1  white            8.6              0.23         0.46             1.0   \n",
              "2  white            6.6              0.32         0.26             4.6   \n",
              "3    red            8.2              0.33         0.32             2.8   \n",
              "4  white            6.9              0.28         0.24             2.1   \n",
              "\n",
              "   chlorides  free sulfur dioxide  total sulfur dioxide  density    pH  \\\n",
              "0      0.033                 25.0                  85.0  0.99086  3.05   \n",
              "1      0.054                  9.0                  72.0  0.99410  2.95   \n",
              "2      0.031                 26.0                 120.0  0.99198  3.40   \n",
              "3      0.067                  4.0                  12.0  0.99473  3.30   \n",
              "4      0.034                 49.0                 121.0  0.98882  2.98   \n",
              "\n",
              "   sulphates  alcohol  aprovado  chlorides_faixa   alcohol_faixa  \n",
              "0       0.34     11.7         1  (0.0084, 0.129]  (10.76, 12.14]  \n",
              "1       0.49      9.1         1  (0.0084, 0.129]   (7.993, 9.38]  \n",
              "2       0.73     12.5         1  (0.0084, 0.129]  (12.14, 13.52]  \n",
              "3       0.76     12.8         1  (0.0084, 0.129]  (12.14, 13.52]  \n",
              "4       0.43     13.2         1  (0.0084, 0.129]  (12.14, 13.52]  "
            ]
          },
          "metadata": {},
          "execution_count": 34
        }
      ],
      "source": [
        "coluna = 'chlorides'\n",
        "minimo_vinhos = 50\n",
        "\n",
        "# Passo 1 - Selecionar a variável e fazer a coluna de faixas\n",
        "dados_treino[coluna+'_faixa'] = pd.cut(dados_treino[coluna],bins=5)\n",
        "dados_treino.head() "
      ]
    },
    {
      "cell_type": "markdown",
      "metadata": {
        "id": "tSYYudQSJtMV"
      },
      "source": [
        "#### Passo 2 - Agrupar pela coluna de faixas e calcular média da coluna 'aprovado', bem como a contagem"
      ]
    },
    {
      "cell_type": "code",
      "execution_count": 46,
      "metadata": {
        "id": "2Js3pdZ_JtMV",
        "outputId": "9c9a7107-bc55-47ac-c5ee-67c72853044e",
        "colab": {
          "base_uri": "https://localhost:8080/",
          "height": 394
        }
      },
      "outputs": [
        {
          "output_type": "execute_result",
          "data": {
            "text/html": [
              "\n",
              "  <div id=\"df-8d3818d9-a4c2-4f91-8346-8e6d6db8c750\">\n",
              "    <div class=\"colab-df-container\">\n",
              "      <div>\n",
              "<style scoped>\n",
              "    .dataframe tbody tr th:only-of-type {\n",
              "        vertical-align: middle;\n",
              "    }\n",
              "\n",
              "    .dataframe tbody tr th {\n",
              "        vertical-align: top;\n",
              "    }\n",
              "\n",
              "    .dataframe thead th {\n",
              "        text-align: right;\n",
              "    }\n",
              "</style>\n",
              "<table border=\"1\" class=\"dataframe\">\n",
              "  <thead>\n",
              "    <tr style=\"text-align: right;\">\n",
              "      <th></th>\n",
              "      <th>contagem</th>\n",
              "      <th>fração vinhos aprovados</th>\n",
              "    </tr>\n",
              "    <tr>\n",
              "      <th>chlorides_faixa</th>\n",
              "      <th></th>\n",
              "      <th></th>\n",
              "    </tr>\n",
              "  </thead>\n",
              "  <tbody>\n",
              "    <tr>\n",
              "      <th>(0.0084, 0.0691]</th>\n",
              "      <td>2892</td>\n",
              "      <td>0.540802</td>\n",
              "    </tr>\n",
              "    <tr>\n",
              "      <th>(0.0691, 0.129]</th>\n",
              "      <td>825</td>\n",
              "      <td>0.358788</td>\n",
              "    </tr>\n",
              "    <tr>\n",
              "      <th>(0.129, 0.189]</th>\n",
              "      <td>58</td>\n",
              "      <td>0.275862</td>\n",
              "    </tr>\n",
              "    <tr>\n",
              "      <th>(0.189, 0.249]</th>\n",
              "      <td>23</td>\n",
              "      <td>0.434783</td>\n",
              "    </tr>\n",
              "    <tr>\n",
              "      <th>(0.249, 0.31]</th>\n",
              "      <td>6</td>\n",
              "      <td>0.166667</td>\n",
              "    </tr>\n",
              "    <tr>\n",
              "      <th>(0.31, 0.37]</th>\n",
              "      <td>6</td>\n",
              "      <td>0.333333</td>\n",
              "    </tr>\n",
              "    <tr>\n",
              "      <th>(0.37, 0.43]</th>\n",
              "      <td>6</td>\n",
              "      <td>0.166667</td>\n",
              "    </tr>\n",
              "    <tr>\n",
              "      <th>(0.43, 0.49]</th>\n",
              "      <td>1</td>\n",
              "      <td>0.000000</td>\n",
              "    </tr>\n",
              "    <tr>\n",
              "      <th>(0.49, 0.55]</th>\n",
              "      <td>0</td>\n",
              "      <td>NaN</td>\n",
              "    </tr>\n",
              "    <tr>\n",
              "      <th>(0.55, 0.61]</th>\n",
              "      <td>1</td>\n",
              "      <td>0.000000</td>\n",
              "    </tr>\n",
              "  </tbody>\n",
              "</table>\n",
              "</div>\n",
              "      <button class=\"colab-df-convert\" onclick=\"convertToInteractive('df-8d3818d9-a4c2-4f91-8346-8e6d6db8c750')\"\n",
              "              title=\"Convert this dataframe to an interactive table.\"\n",
              "              style=\"display:none;\">\n",
              "        \n",
              "  <svg xmlns=\"http://www.w3.org/2000/svg\" height=\"24px\"viewBox=\"0 0 24 24\"\n",
              "       width=\"24px\">\n",
              "    <path d=\"M0 0h24v24H0V0z\" fill=\"none\"/>\n",
              "    <path d=\"M18.56 5.44l.94 2.06.94-2.06 2.06-.94-2.06-.94-.94-2.06-.94 2.06-2.06.94zm-11 1L8.5 8.5l.94-2.06 2.06-.94-2.06-.94L8.5 2.5l-.94 2.06-2.06.94zm10 10l.94 2.06.94-2.06 2.06-.94-2.06-.94-.94-2.06-.94 2.06-2.06.94z\"/><path d=\"M17.41 7.96l-1.37-1.37c-.4-.4-.92-.59-1.43-.59-.52 0-1.04.2-1.43.59L10.3 9.45l-7.72 7.72c-.78.78-.78 2.05 0 2.83L4 21.41c.39.39.9.59 1.41.59.51 0 1.02-.2 1.41-.59l7.78-7.78 2.81-2.81c.8-.78.8-2.07 0-2.86zM5.41 20L4 18.59l7.72-7.72 1.47 1.35L5.41 20z\"/>\n",
              "  </svg>\n",
              "      </button>\n",
              "      \n",
              "  <style>\n",
              "    .colab-df-container {\n",
              "      display:flex;\n",
              "      flex-wrap:wrap;\n",
              "      gap: 12px;\n",
              "    }\n",
              "\n",
              "    .colab-df-convert {\n",
              "      background-color: #E8F0FE;\n",
              "      border: none;\n",
              "      border-radius: 50%;\n",
              "      cursor: pointer;\n",
              "      display: none;\n",
              "      fill: #1967D2;\n",
              "      height: 32px;\n",
              "      padding: 0 0 0 0;\n",
              "      width: 32px;\n",
              "    }\n",
              "\n",
              "    .colab-df-convert:hover {\n",
              "      background-color: #E2EBFA;\n",
              "      box-shadow: 0px 1px 2px rgba(60, 64, 67, 0.3), 0px 1px 3px 1px rgba(60, 64, 67, 0.15);\n",
              "      fill: #174EA6;\n",
              "    }\n",
              "\n",
              "    [theme=dark] .colab-df-convert {\n",
              "      background-color: #3B4455;\n",
              "      fill: #D2E3FC;\n",
              "    }\n",
              "\n",
              "    [theme=dark] .colab-df-convert:hover {\n",
              "      background-color: #434B5C;\n",
              "      box-shadow: 0px 1px 3px 1px rgba(0, 0, 0, 0.15);\n",
              "      filter: drop-shadow(0px 1px 2px rgba(0, 0, 0, 0.3));\n",
              "      fill: #FFFFFF;\n",
              "    }\n",
              "  </style>\n",
              "\n",
              "      <script>\n",
              "        const buttonEl =\n",
              "          document.querySelector('#df-8d3818d9-a4c2-4f91-8346-8e6d6db8c750 button.colab-df-convert');\n",
              "        buttonEl.style.display =\n",
              "          google.colab.kernel.accessAllowed ? 'block' : 'none';\n",
              "\n",
              "        async function convertToInteractive(key) {\n",
              "          const element = document.querySelector('#df-8d3818d9-a4c2-4f91-8346-8e6d6db8c750');\n",
              "          const dataTable =\n",
              "            await google.colab.kernel.invokeFunction('convertToInteractive',\n",
              "                                                     [key], {});\n",
              "          if (!dataTable) return;\n",
              "\n",
              "          const docLinkHtml = 'Like what you see? Visit the ' +\n",
              "            '<a target=\"_blank\" href=https://colab.research.google.com/notebooks/data_table.ipynb>data table notebook</a>'\n",
              "            + ' to learn more about interactive tables.';\n",
              "          element.innerHTML = '';\n",
              "          dataTable['output_type'] = 'display_data';\n",
              "          await google.colab.output.renderOutput(dataTable, element);\n",
              "          const docLink = document.createElement('div');\n",
              "          docLink.innerHTML = docLinkHtml;\n",
              "          element.appendChild(docLink);\n",
              "        }\n",
              "      </script>\n",
              "    </div>\n",
              "  </div>\n",
              "  "
            ],
            "text/plain": [
              "                  contagem  fração vinhos aprovados\n",
              "chlorides_faixa                                    \n",
              "(0.0084, 0.0691]      2892                 0.540802\n",
              "(0.0691, 0.129]        825                 0.358788\n",
              "(0.129, 0.189]          58                 0.275862\n",
              "(0.189, 0.249]          23                 0.434783\n",
              "(0.249, 0.31]            6                 0.166667\n",
              "(0.31, 0.37]             6                 0.333333\n",
              "(0.37, 0.43]             6                 0.166667\n",
              "(0.43, 0.49]             1                 0.000000\n",
              "(0.49, 0.55]             0                      NaN\n",
              "(0.55, 0.61]             1                 0.000000"
            ]
          },
          "metadata": {},
          "execution_count": 46
        }
      ],
      "source": [
        "# Passo 2 - Agrupar pela coluna de faixas e calcular média da coluna 'aprovado'\n",
        "agrupamento = dados_treino.groupby(coluna+'_faixa')['aprovado'].agg(['count','mean'])\n",
        "agrupamento.columns = ['contagem','fração vinhos aprovados']\n",
        "agrupamento"
      ]
    },
    {
      "cell_type": "markdown",
      "metadata": {
        "id": "F9TZncoTJtMW"
      },
      "source": [
        "#### Passo 3 - Selecionar apenas as faixas com um número mínimo de vinhos"
      ]
    },
    {
      "cell_type": "code",
      "execution_count": 36,
      "metadata": {
        "id": "39JZAKI4JtMW",
        "outputId": "de6dde2d-94dd-4bee-93b1-dd399adad24a",
        "colab": {
          "base_uri": "https://localhost:8080/",
          "height": 143
        }
      },
      "outputs": [
        {
          "output_type": "execute_result",
          "data": {
            "text/html": [
              "\n",
              "  <div id=\"df-2ad565f9-c956-470f-aade-ceeba78e710a\">\n",
              "    <div class=\"colab-df-container\">\n",
              "      <div>\n",
              "<style scoped>\n",
              "    .dataframe tbody tr th:only-of-type {\n",
              "        vertical-align: middle;\n",
              "    }\n",
              "\n",
              "    .dataframe tbody tr th {\n",
              "        vertical-align: top;\n",
              "    }\n",
              "\n",
              "    .dataframe thead th {\n",
              "        text-align: right;\n",
              "    }\n",
              "</style>\n",
              "<table border=\"1\" class=\"dataframe\">\n",
              "  <thead>\n",
              "    <tr style=\"text-align: right;\">\n",
              "      <th></th>\n",
              "      <th>contagem</th>\n",
              "      <th>fração vinhos aprovados</th>\n",
              "    </tr>\n",
              "    <tr>\n",
              "      <th>chlorides_faixa</th>\n",
              "      <th></th>\n",
              "      <th></th>\n",
              "    </tr>\n",
              "  </thead>\n",
              "  <tbody>\n",
              "    <tr>\n",
              "      <th>(0.0084, 0.129]</th>\n",
              "      <td>3717</td>\n",
              "      <td>0.500404</td>\n",
              "    </tr>\n",
              "    <tr>\n",
              "      <th>(0.129, 0.249]</th>\n",
              "      <td>81</td>\n",
              "      <td>0.320988</td>\n",
              "    </tr>\n",
              "  </tbody>\n",
              "</table>\n",
              "</div>\n",
              "      <button class=\"colab-df-convert\" onclick=\"convertToInteractive('df-2ad565f9-c956-470f-aade-ceeba78e710a')\"\n",
              "              title=\"Convert this dataframe to an interactive table.\"\n",
              "              style=\"display:none;\">\n",
              "        \n",
              "  <svg xmlns=\"http://www.w3.org/2000/svg\" height=\"24px\"viewBox=\"0 0 24 24\"\n",
              "       width=\"24px\">\n",
              "    <path d=\"M0 0h24v24H0V0z\" fill=\"none\"/>\n",
              "    <path d=\"M18.56 5.44l.94 2.06.94-2.06 2.06-.94-2.06-.94-.94-2.06-.94 2.06-2.06.94zm-11 1L8.5 8.5l.94-2.06 2.06-.94-2.06-.94L8.5 2.5l-.94 2.06-2.06.94zm10 10l.94 2.06.94-2.06 2.06-.94-2.06-.94-.94-2.06-.94 2.06-2.06.94z\"/><path d=\"M17.41 7.96l-1.37-1.37c-.4-.4-.92-.59-1.43-.59-.52 0-1.04.2-1.43.59L10.3 9.45l-7.72 7.72c-.78.78-.78 2.05 0 2.83L4 21.41c.39.39.9.59 1.41.59.51 0 1.02-.2 1.41-.59l7.78-7.78 2.81-2.81c.8-.78.8-2.07 0-2.86zM5.41 20L4 18.59l7.72-7.72 1.47 1.35L5.41 20z\"/>\n",
              "  </svg>\n",
              "      </button>\n",
              "      \n",
              "  <style>\n",
              "    .colab-df-container {\n",
              "      display:flex;\n",
              "      flex-wrap:wrap;\n",
              "      gap: 12px;\n",
              "    }\n",
              "\n",
              "    .colab-df-convert {\n",
              "      background-color: #E8F0FE;\n",
              "      border: none;\n",
              "      border-radius: 50%;\n",
              "      cursor: pointer;\n",
              "      display: none;\n",
              "      fill: #1967D2;\n",
              "      height: 32px;\n",
              "      padding: 0 0 0 0;\n",
              "      width: 32px;\n",
              "    }\n",
              "\n",
              "    .colab-df-convert:hover {\n",
              "      background-color: #E2EBFA;\n",
              "      box-shadow: 0px 1px 2px rgba(60, 64, 67, 0.3), 0px 1px 3px 1px rgba(60, 64, 67, 0.15);\n",
              "      fill: #174EA6;\n",
              "    }\n",
              "\n",
              "    [theme=dark] .colab-df-convert {\n",
              "      background-color: #3B4455;\n",
              "      fill: #D2E3FC;\n",
              "    }\n",
              "\n",
              "    [theme=dark] .colab-df-convert:hover {\n",
              "      background-color: #434B5C;\n",
              "      box-shadow: 0px 1px 3px 1px rgba(0, 0, 0, 0.15);\n",
              "      filter: drop-shadow(0px 1px 2px rgba(0, 0, 0, 0.3));\n",
              "      fill: #FFFFFF;\n",
              "    }\n",
              "  </style>\n",
              "\n",
              "      <script>\n",
              "        const buttonEl =\n",
              "          document.querySelector('#df-2ad565f9-c956-470f-aade-ceeba78e710a button.colab-df-convert');\n",
              "        buttonEl.style.display =\n",
              "          google.colab.kernel.accessAllowed ? 'block' : 'none';\n",
              "\n",
              "        async function convertToInteractive(key) {\n",
              "          const element = document.querySelector('#df-2ad565f9-c956-470f-aade-ceeba78e710a');\n",
              "          const dataTable =\n",
              "            await google.colab.kernel.invokeFunction('convertToInteractive',\n",
              "                                                     [key], {});\n",
              "          if (!dataTable) return;\n",
              "\n",
              "          const docLinkHtml = 'Like what you see? Visit the ' +\n",
              "            '<a target=\"_blank\" href=https://colab.research.google.com/notebooks/data_table.ipynb>data table notebook</a>'\n",
              "            + ' to learn more about interactive tables.';\n",
              "          element.innerHTML = '';\n",
              "          dataTable['output_type'] = 'display_data';\n",
              "          await google.colab.output.renderOutput(dataTable, element);\n",
              "          const docLink = document.createElement('div');\n",
              "          docLink.innerHTML = docLinkHtml;\n",
              "          element.appendChild(docLink);\n",
              "        }\n",
              "      </script>\n",
              "    </div>\n",
              "  </div>\n",
              "  "
            ],
            "text/plain": [
              "                 contagem  fração vinhos aprovados\n",
              "chlorides_faixa                                   \n",
              "(0.0084, 0.129]      3717                 0.500404\n",
              "(0.129, 0.249]         81                 0.320988"
            ]
          },
          "metadata": {},
          "execution_count": 36
        }
      ],
      "source": [
        "# Passo 3 - Selecionar apenas as faixas com um número mínimo de vinhos\n",
        "agrupamento_filtro = agrupamento[agrupamento['contagem']>=minimo_vinhos]\n",
        "agrupamento_filtro"
      ]
    },
    {
      "cell_type": "markdown",
      "metadata": {
        "id": "Iskd32dnJtMY"
      },
      "source": [
        "#### Passo 4 - Ordenar pela fração de vinhos aprovados, e selecionar a melhor faixa (índice 0)"
      ]
    },
    {
      "cell_type": "code",
      "execution_count": 37,
      "metadata": {
        "id": "Ovo-Z-K5JtMZ",
        "outputId": "fea55474-7319-49f2-e580-5347e6ff0ef7",
        "colab": {
          "base_uri": "https://localhost:8080/",
          "height": 143
        }
      },
      "outputs": [
        {
          "output_type": "execute_result",
          "data": {
            "text/html": [
              "\n",
              "  <div id=\"df-50216725-d346-46c3-b29a-8df1602ff0b5\">\n",
              "    <div class=\"colab-df-container\">\n",
              "      <div>\n",
              "<style scoped>\n",
              "    .dataframe tbody tr th:only-of-type {\n",
              "        vertical-align: middle;\n",
              "    }\n",
              "\n",
              "    .dataframe tbody tr th {\n",
              "        vertical-align: top;\n",
              "    }\n",
              "\n",
              "    .dataframe thead th {\n",
              "        text-align: right;\n",
              "    }\n",
              "</style>\n",
              "<table border=\"1\" class=\"dataframe\">\n",
              "  <thead>\n",
              "    <tr style=\"text-align: right;\">\n",
              "      <th></th>\n",
              "      <th>contagem</th>\n",
              "      <th>fração vinhos aprovados</th>\n",
              "    </tr>\n",
              "    <tr>\n",
              "      <th>chlorides_faixa</th>\n",
              "      <th></th>\n",
              "      <th></th>\n",
              "    </tr>\n",
              "  </thead>\n",
              "  <tbody>\n",
              "    <tr>\n",
              "      <th>(0.0084, 0.129]</th>\n",
              "      <td>3717</td>\n",
              "      <td>0.500404</td>\n",
              "    </tr>\n",
              "    <tr>\n",
              "      <th>(0.129, 0.249]</th>\n",
              "      <td>81</td>\n",
              "      <td>0.320988</td>\n",
              "    </tr>\n",
              "  </tbody>\n",
              "</table>\n",
              "</div>\n",
              "      <button class=\"colab-df-convert\" onclick=\"convertToInteractive('df-50216725-d346-46c3-b29a-8df1602ff0b5')\"\n",
              "              title=\"Convert this dataframe to an interactive table.\"\n",
              "              style=\"display:none;\">\n",
              "        \n",
              "  <svg xmlns=\"http://www.w3.org/2000/svg\" height=\"24px\"viewBox=\"0 0 24 24\"\n",
              "       width=\"24px\">\n",
              "    <path d=\"M0 0h24v24H0V0z\" fill=\"none\"/>\n",
              "    <path d=\"M18.56 5.44l.94 2.06.94-2.06 2.06-.94-2.06-.94-.94-2.06-.94 2.06-2.06.94zm-11 1L8.5 8.5l.94-2.06 2.06-.94-2.06-.94L8.5 2.5l-.94 2.06-2.06.94zm10 10l.94 2.06.94-2.06 2.06-.94-2.06-.94-.94-2.06-.94 2.06-2.06.94z\"/><path d=\"M17.41 7.96l-1.37-1.37c-.4-.4-.92-.59-1.43-.59-.52 0-1.04.2-1.43.59L10.3 9.45l-7.72 7.72c-.78.78-.78 2.05 0 2.83L4 21.41c.39.39.9.59 1.41.59.51 0 1.02-.2 1.41-.59l7.78-7.78 2.81-2.81c.8-.78.8-2.07 0-2.86zM5.41 20L4 18.59l7.72-7.72 1.47 1.35L5.41 20z\"/>\n",
              "  </svg>\n",
              "      </button>\n",
              "      \n",
              "  <style>\n",
              "    .colab-df-container {\n",
              "      display:flex;\n",
              "      flex-wrap:wrap;\n",
              "      gap: 12px;\n",
              "    }\n",
              "\n",
              "    .colab-df-convert {\n",
              "      background-color: #E8F0FE;\n",
              "      border: none;\n",
              "      border-radius: 50%;\n",
              "      cursor: pointer;\n",
              "      display: none;\n",
              "      fill: #1967D2;\n",
              "      height: 32px;\n",
              "      padding: 0 0 0 0;\n",
              "      width: 32px;\n",
              "    }\n",
              "\n",
              "    .colab-df-convert:hover {\n",
              "      background-color: #E2EBFA;\n",
              "      box-shadow: 0px 1px 2px rgba(60, 64, 67, 0.3), 0px 1px 3px 1px rgba(60, 64, 67, 0.15);\n",
              "      fill: #174EA6;\n",
              "    }\n",
              "\n",
              "    [theme=dark] .colab-df-convert {\n",
              "      background-color: #3B4455;\n",
              "      fill: #D2E3FC;\n",
              "    }\n",
              "\n",
              "    [theme=dark] .colab-df-convert:hover {\n",
              "      background-color: #434B5C;\n",
              "      box-shadow: 0px 1px 3px 1px rgba(0, 0, 0, 0.15);\n",
              "      filter: drop-shadow(0px 1px 2px rgba(0, 0, 0, 0.3));\n",
              "      fill: #FFFFFF;\n",
              "    }\n",
              "  </style>\n",
              "\n",
              "      <script>\n",
              "        const buttonEl =\n",
              "          document.querySelector('#df-50216725-d346-46c3-b29a-8df1602ff0b5 button.colab-df-convert');\n",
              "        buttonEl.style.display =\n",
              "          google.colab.kernel.accessAllowed ? 'block' : 'none';\n",
              "\n",
              "        async function convertToInteractive(key) {\n",
              "          const element = document.querySelector('#df-50216725-d346-46c3-b29a-8df1602ff0b5');\n",
              "          const dataTable =\n",
              "            await google.colab.kernel.invokeFunction('convertToInteractive',\n",
              "                                                     [key], {});\n",
              "          if (!dataTable) return;\n",
              "\n",
              "          const docLinkHtml = 'Like what you see? Visit the ' +\n",
              "            '<a target=\"_blank\" href=https://colab.research.google.com/notebooks/data_table.ipynb>data table notebook</a>'\n",
              "            + ' to learn more about interactive tables.';\n",
              "          element.innerHTML = '';\n",
              "          dataTable['output_type'] = 'display_data';\n",
              "          await google.colab.output.renderOutput(dataTable, element);\n",
              "          const docLink = document.createElement('div');\n",
              "          docLink.innerHTML = docLinkHtml;\n",
              "          element.appendChild(docLink);\n",
              "        }\n",
              "      </script>\n",
              "    </div>\n",
              "  </div>\n",
              "  "
            ],
            "text/plain": [
              "                 contagem  fração vinhos aprovados\n",
              "chlorides_faixa                                   \n",
              "(0.0084, 0.129]      3717                 0.500404\n",
              "(0.129, 0.249]         81                 0.320988"
            ]
          },
          "metadata": {},
          "execution_count": 37
        }
      ],
      "source": [
        "agrupamento_filtro.sort_values(by='fração vinhos aprovados',ascending=False)"
      ]
    },
    {
      "cell_type": "code",
      "execution_count": 38,
      "metadata": {
        "id": "Mjktkw1xJtMa",
        "outputId": "ea32c521-31d8-47fa-95e8-7059c057ab82",
        "colab": {
          "base_uri": "https://localhost:8080/"
        }
      },
      "outputs": [
        {
          "output_type": "execute_result",
          "data": {
            "text/plain": [
              "contagem                   3717.000000\n",
              "fração vinhos aprovados       0.500404\n",
              "Name: (0.0084, 0.129], dtype: float64"
            ]
          },
          "metadata": {},
          "execution_count": 38
        }
      ],
      "source": [
        "# Passo 4 - Ordenar pela fração de vinhos aprovados, e selecionar a melhor faixa (índice 0)\n",
        "faixa_final = agrupamento_filtro.sort_values(by='fração vinhos aprovados',ascending=False).iloc[0]\n",
        "faixa_final"
      ]
    },
    {
      "cell_type": "markdown",
      "metadata": {
        "id": "D8uNQWcaJtMc"
      },
      "source": [
        "#### Passo 5 - Transformar a seleção em um DataFrame para simplificar o resultado"
      ]
    },
    {
      "cell_type": "code",
      "execution_count": 39,
      "metadata": {
        "id": "wDZDJrcXJtMd",
        "outputId": "7abff5f7-1790-4443-dc4b-73714888d849",
        "colab": {
          "base_uri": "https://localhost:8080/",
          "height": 81
        }
      },
      "outputs": [
        {
          "output_type": "execute_result",
          "data": {
            "text/html": [
              "\n",
              "  <div id=\"df-a3213a12-26c8-473b-93fe-861962da2863\">\n",
              "    <div class=\"colab-df-container\">\n",
              "      <div>\n",
              "<style scoped>\n",
              "    .dataframe tbody tr th:only-of-type {\n",
              "        vertical-align: middle;\n",
              "    }\n",
              "\n",
              "    .dataframe tbody tr th {\n",
              "        vertical-align: top;\n",
              "    }\n",
              "\n",
              "    .dataframe thead th {\n",
              "        text-align: right;\n",
              "    }\n",
              "</style>\n",
              "<table border=\"1\" class=\"dataframe\">\n",
              "  <thead>\n",
              "    <tr style=\"text-align: right;\">\n",
              "      <th></th>\n",
              "      <th>contagem</th>\n",
              "      <th>fração vinhos aprovados</th>\n",
              "    </tr>\n",
              "  </thead>\n",
              "  <tbody>\n",
              "    <tr>\n",
              "      <th>(0.0084, 0.129]</th>\n",
              "      <td>3717.0</td>\n",
              "      <td>0.500404</td>\n",
              "    </tr>\n",
              "  </tbody>\n",
              "</table>\n",
              "</div>\n",
              "      <button class=\"colab-df-convert\" onclick=\"convertToInteractive('df-a3213a12-26c8-473b-93fe-861962da2863')\"\n",
              "              title=\"Convert this dataframe to an interactive table.\"\n",
              "              style=\"display:none;\">\n",
              "        \n",
              "  <svg xmlns=\"http://www.w3.org/2000/svg\" height=\"24px\"viewBox=\"0 0 24 24\"\n",
              "       width=\"24px\">\n",
              "    <path d=\"M0 0h24v24H0V0z\" fill=\"none\"/>\n",
              "    <path d=\"M18.56 5.44l.94 2.06.94-2.06 2.06-.94-2.06-.94-.94-2.06-.94 2.06-2.06.94zm-11 1L8.5 8.5l.94-2.06 2.06-.94-2.06-.94L8.5 2.5l-.94 2.06-2.06.94zm10 10l.94 2.06.94-2.06 2.06-.94-2.06-.94-.94-2.06-.94 2.06-2.06.94z\"/><path d=\"M17.41 7.96l-1.37-1.37c-.4-.4-.92-.59-1.43-.59-.52 0-1.04.2-1.43.59L10.3 9.45l-7.72 7.72c-.78.78-.78 2.05 0 2.83L4 21.41c.39.39.9.59 1.41.59.51 0 1.02-.2 1.41-.59l7.78-7.78 2.81-2.81c.8-.78.8-2.07 0-2.86zM5.41 20L4 18.59l7.72-7.72 1.47 1.35L5.41 20z\"/>\n",
              "  </svg>\n",
              "      </button>\n",
              "      \n",
              "  <style>\n",
              "    .colab-df-container {\n",
              "      display:flex;\n",
              "      flex-wrap:wrap;\n",
              "      gap: 12px;\n",
              "    }\n",
              "\n",
              "    .colab-df-convert {\n",
              "      background-color: #E8F0FE;\n",
              "      border: none;\n",
              "      border-radius: 50%;\n",
              "      cursor: pointer;\n",
              "      display: none;\n",
              "      fill: #1967D2;\n",
              "      height: 32px;\n",
              "      padding: 0 0 0 0;\n",
              "      width: 32px;\n",
              "    }\n",
              "\n",
              "    .colab-df-convert:hover {\n",
              "      background-color: #E2EBFA;\n",
              "      box-shadow: 0px 1px 2px rgba(60, 64, 67, 0.3), 0px 1px 3px 1px rgba(60, 64, 67, 0.15);\n",
              "      fill: #174EA6;\n",
              "    }\n",
              "\n",
              "    [theme=dark] .colab-df-convert {\n",
              "      background-color: #3B4455;\n",
              "      fill: #D2E3FC;\n",
              "    }\n",
              "\n",
              "    [theme=dark] .colab-df-convert:hover {\n",
              "      background-color: #434B5C;\n",
              "      box-shadow: 0px 1px 3px 1px rgba(0, 0, 0, 0.15);\n",
              "      filter: drop-shadow(0px 1px 2px rgba(0, 0, 0, 0.3));\n",
              "      fill: #FFFFFF;\n",
              "    }\n",
              "  </style>\n",
              "\n",
              "      <script>\n",
              "        const buttonEl =\n",
              "          document.querySelector('#df-a3213a12-26c8-473b-93fe-861962da2863 button.colab-df-convert');\n",
              "        buttonEl.style.display =\n",
              "          google.colab.kernel.accessAllowed ? 'block' : 'none';\n",
              "\n",
              "        async function convertToInteractive(key) {\n",
              "          const element = document.querySelector('#df-a3213a12-26c8-473b-93fe-861962da2863');\n",
              "          const dataTable =\n",
              "            await google.colab.kernel.invokeFunction('convertToInteractive',\n",
              "                                                     [key], {});\n",
              "          if (!dataTable) return;\n",
              "\n",
              "          const docLinkHtml = 'Like what you see? Visit the ' +\n",
              "            '<a target=\"_blank\" href=https://colab.research.google.com/notebooks/data_table.ipynb>data table notebook</a>'\n",
              "            + ' to learn more about interactive tables.';\n",
              "          element.innerHTML = '';\n",
              "          dataTable['output_type'] = 'display_data';\n",
              "          await google.colab.output.renderOutput(dataTable, element);\n",
              "          const docLink = document.createElement('div');\n",
              "          docLink.innerHTML = docLinkHtml;\n",
              "          element.appendChild(docLink);\n",
              "        }\n",
              "      </script>\n",
              "    </div>\n",
              "  </div>\n",
              "  "
            ],
            "text/plain": [
              "                 contagem  fração vinhos aprovados\n",
              "(0.0084, 0.129]    3717.0                 0.500404"
            ]
          },
          "metadata": {},
          "execution_count": 39
        }
      ],
      "source": [
        "# Passo 5 - Transformar a seleção em um DataFrame para simplificar o resultado\n",
        "faixa_final = faixa_final.to_frame().T # o 'to_frame' transforma em DataFrame, e o .T transpõe o DataFrame\n",
        "\n",
        "# Imprimindo a coluna e a faixa\n",
        "faixa_final"
      ]
    },
    {
      "cell_type": "code",
      "execution_count": 40,
      "metadata": {
        "id": "n2VsH37jJtMe",
        "outputId": "5bbcc78f-a6c9-432e-9471-d1c02c6400e9",
        "colab": {
          "base_uri": "https://localhost:8080/",
          "height": 81
        }
      },
      "outputs": [
        {
          "output_type": "execute_result",
          "data": {
            "text/html": [
              "\n",
              "  <div id=\"df-b3df60ba-6589-4c53-b317-e05ffc99d13e\">\n",
              "    <div class=\"colab-df-container\">\n",
              "      <div>\n",
              "<style scoped>\n",
              "    .dataframe tbody tr th:only-of-type {\n",
              "        vertical-align: middle;\n",
              "    }\n",
              "\n",
              "    .dataframe tbody tr th {\n",
              "        vertical-align: top;\n",
              "    }\n",
              "\n",
              "    .dataframe thead th {\n",
              "        text-align: right;\n",
              "    }\n",
              "</style>\n",
              "<table border=\"1\" class=\"dataframe\">\n",
              "  <thead>\n",
              "    <tr style=\"text-align: right;\">\n",
              "      <th></th>\n",
              "      <th>contagem</th>\n",
              "      <th>fração vinhos aprovados</th>\n",
              "    </tr>\n",
              "  </thead>\n",
              "  <tbody>\n",
              "    <tr>\n",
              "      <th>(0.0084, 0.129]</th>\n",
              "      <td>3717.0</td>\n",
              "      <td>0.500404</td>\n",
              "    </tr>\n",
              "  </tbody>\n",
              "</table>\n",
              "</div>\n",
              "      <button class=\"colab-df-convert\" onclick=\"convertToInteractive('df-b3df60ba-6589-4c53-b317-e05ffc99d13e')\"\n",
              "              title=\"Convert this dataframe to an interactive table.\"\n",
              "              style=\"display:none;\">\n",
              "        \n",
              "  <svg xmlns=\"http://www.w3.org/2000/svg\" height=\"24px\"viewBox=\"0 0 24 24\"\n",
              "       width=\"24px\">\n",
              "    <path d=\"M0 0h24v24H0V0z\" fill=\"none\"/>\n",
              "    <path d=\"M18.56 5.44l.94 2.06.94-2.06 2.06-.94-2.06-.94-.94-2.06-.94 2.06-2.06.94zm-11 1L8.5 8.5l.94-2.06 2.06-.94-2.06-.94L8.5 2.5l-.94 2.06-2.06.94zm10 10l.94 2.06.94-2.06 2.06-.94-2.06-.94-.94-2.06-.94 2.06-2.06.94z\"/><path d=\"M17.41 7.96l-1.37-1.37c-.4-.4-.92-.59-1.43-.59-.52 0-1.04.2-1.43.59L10.3 9.45l-7.72 7.72c-.78.78-.78 2.05 0 2.83L4 21.41c.39.39.9.59 1.41.59.51 0 1.02-.2 1.41-.59l7.78-7.78 2.81-2.81c.8-.78.8-2.07 0-2.86zM5.41 20L4 18.59l7.72-7.72 1.47 1.35L5.41 20z\"/>\n",
              "  </svg>\n",
              "      </button>\n",
              "      \n",
              "  <style>\n",
              "    .colab-df-container {\n",
              "      display:flex;\n",
              "      flex-wrap:wrap;\n",
              "      gap: 12px;\n",
              "    }\n",
              "\n",
              "    .colab-df-convert {\n",
              "      background-color: #E8F0FE;\n",
              "      border: none;\n",
              "      border-radius: 50%;\n",
              "      cursor: pointer;\n",
              "      display: none;\n",
              "      fill: #1967D2;\n",
              "      height: 32px;\n",
              "      padding: 0 0 0 0;\n",
              "      width: 32px;\n",
              "    }\n",
              "\n",
              "    .colab-df-convert:hover {\n",
              "      background-color: #E2EBFA;\n",
              "      box-shadow: 0px 1px 2px rgba(60, 64, 67, 0.3), 0px 1px 3px 1px rgba(60, 64, 67, 0.15);\n",
              "      fill: #174EA6;\n",
              "    }\n",
              "\n",
              "    [theme=dark] .colab-df-convert {\n",
              "      background-color: #3B4455;\n",
              "      fill: #D2E3FC;\n",
              "    }\n",
              "\n",
              "    [theme=dark] .colab-df-convert:hover {\n",
              "      background-color: #434B5C;\n",
              "      box-shadow: 0px 1px 3px 1px rgba(0, 0, 0, 0.15);\n",
              "      filter: drop-shadow(0px 1px 2px rgba(0, 0, 0, 0.3));\n",
              "      fill: #FFFFFF;\n",
              "    }\n",
              "  </style>\n",
              "\n",
              "      <script>\n",
              "        const buttonEl =\n",
              "          document.querySelector('#df-b3df60ba-6589-4c53-b317-e05ffc99d13e button.colab-df-convert');\n",
              "        buttonEl.style.display =\n",
              "          google.colab.kernel.accessAllowed ? 'block' : 'none';\n",
              "\n",
              "        async function convertToInteractive(key) {\n",
              "          const element = document.querySelector('#df-b3df60ba-6589-4c53-b317-e05ffc99d13e');\n",
              "          const dataTable =\n",
              "            await google.colab.kernel.invokeFunction('convertToInteractive',\n",
              "                                                     [key], {});\n",
              "          if (!dataTable) return;\n",
              "\n",
              "          const docLinkHtml = 'Like what you see? Visit the ' +\n",
              "            '<a target=\"_blank\" href=https://colab.research.google.com/notebooks/data_table.ipynb>data table notebook</a>'\n",
              "            + ' to learn more about interactive tables.';\n",
              "          element.innerHTML = '';\n",
              "          dataTable['output_type'] = 'display_data';\n",
              "          await google.colab.output.renderOutput(dataTable, element);\n",
              "          const docLink = document.createElement('div');\n",
              "          docLink.innerHTML = docLinkHtml;\n",
              "          element.appendChild(docLink);\n",
              "        }\n",
              "      </script>\n",
              "    </div>\n",
              "  </div>\n",
              "  "
            ],
            "text/plain": [
              "                 contagem  fração vinhos aprovados\n",
              "(0.0084, 0.129]    3717.0                 0.500404"
            ]
          },
          "metadata": {},
          "execution_count": 40
        }
      ],
      "source": [
        "coluna = 'chlorides'\n",
        "minimo_vinhos = 50\n",
        "\n",
        "# Passo 1 - Selecionar a variável e fazer a coluna de faixas\n",
        "dados_treino[coluna+'_faixa'] = pd.cut(dados_treino[coluna],bins=5)\n",
        "\n",
        "# Passo 2 - Agrupar pela coluna de faixas e calcular média da coluna 'aprovado'\n",
        "agrupamento = dados_treino.groupby(coluna+'_faixa')['aprovado'].agg(['count','mean'])\n",
        "agrupamento.columns = ['contagem','fração vinhos aprovados']\n",
        "\n",
        "# Passo 3 - Selecionar apenas as faixas com um número mínimo de vinhos\n",
        "agrupamento_filtro = agrupamento[agrupamento['contagem']>=minimo_vinhos]\n",
        "\n",
        "# Passo 4 - Ordenar pela fração de vinhos aprovados, e selecionar a melhor faixa (índice 0)\n",
        "faixa_final = agrupamento_filtro.sort_values(by='fração vinhos aprovados',ascending=False).iloc[0]\n",
        "\n",
        "# Passo 5 - Transformar a seleção em um DataFrame para simplificar o resultado\n",
        "faixa_final = faixa_final.to_frame().T # o 'to_frame' transforma em DataFrame, e o .T transpõe o DataFrame\n",
        "\n",
        "# Imprimindo a coluna e a faixa\n",
        "faixa_final"
      ]
    },
    {
      "cell_type": "code",
      "execution_count": 41,
      "metadata": {
        "id": "MdLi88EQJtMr",
        "outputId": "552740a2-fe12-4ad0-f55e-f65b1c86dd4a",
        "colab": {
          "base_uri": "https://localhost:8080/",
          "height": 81
        }
      },
      "outputs": [
        {
          "output_type": "execute_result",
          "data": {
            "text/html": [
              "\n",
              "  <div id=\"df-8284f33a-3c62-43d3-a921-e59a6e7232c9\">\n",
              "    <div class=\"colab-df-container\">\n",
              "      <div>\n",
              "<style scoped>\n",
              "    .dataframe tbody tr th:only-of-type {\n",
              "        vertical-align: middle;\n",
              "    }\n",
              "\n",
              "    .dataframe tbody tr th {\n",
              "        vertical-align: top;\n",
              "    }\n",
              "\n",
              "    .dataframe thead th {\n",
              "        text-align: right;\n",
              "    }\n",
              "</style>\n",
              "<table border=\"1\" class=\"dataframe\">\n",
              "  <thead>\n",
              "    <tr style=\"text-align: right;\">\n",
              "      <th></th>\n",
              "      <th>contagem</th>\n",
              "      <th>fração vinhos aprovados</th>\n",
              "    </tr>\n",
              "  </thead>\n",
              "  <tbody>\n",
              "    <tr>\n",
              "      <th>(0.0084, 0.129]</th>\n",
              "      <td>3717.0</td>\n",
              "      <td>0.500404</td>\n",
              "    </tr>\n",
              "  </tbody>\n",
              "</table>\n",
              "</div>\n",
              "      <button class=\"colab-df-convert\" onclick=\"convertToInteractive('df-8284f33a-3c62-43d3-a921-e59a6e7232c9')\"\n",
              "              title=\"Convert this dataframe to an interactive table.\"\n",
              "              style=\"display:none;\">\n",
              "        \n",
              "  <svg xmlns=\"http://www.w3.org/2000/svg\" height=\"24px\"viewBox=\"0 0 24 24\"\n",
              "       width=\"24px\">\n",
              "    <path d=\"M0 0h24v24H0V0z\" fill=\"none\"/>\n",
              "    <path d=\"M18.56 5.44l.94 2.06.94-2.06 2.06-.94-2.06-.94-.94-2.06-.94 2.06-2.06.94zm-11 1L8.5 8.5l.94-2.06 2.06-.94-2.06-.94L8.5 2.5l-.94 2.06-2.06.94zm10 10l.94 2.06.94-2.06 2.06-.94-2.06-.94-.94-2.06-.94 2.06-2.06.94z\"/><path d=\"M17.41 7.96l-1.37-1.37c-.4-.4-.92-.59-1.43-.59-.52 0-1.04.2-1.43.59L10.3 9.45l-7.72 7.72c-.78.78-.78 2.05 0 2.83L4 21.41c.39.39.9.59 1.41.59.51 0 1.02-.2 1.41-.59l7.78-7.78 2.81-2.81c.8-.78.8-2.07 0-2.86zM5.41 20L4 18.59l7.72-7.72 1.47 1.35L5.41 20z\"/>\n",
              "  </svg>\n",
              "      </button>\n",
              "      \n",
              "  <style>\n",
              "    .colab-df-container {\n",
              "      display:flex;\n",
              "      flex-wrap:wrap;\n",
              "      gap: 12px;\n",
              "    }\n",
              "\n",
              "    .colab-df-convert {\n",
              "      background-color: #E8F0FE;\n",
              "      border: none;\n",
              "      border-radius: 50%;\n",
              "      cursor: pointer;\n",
              "      display: none;\n",
              "      fill: #1967D2;\n",
              "      height: 32px;\n",
              "      padding: 0 0 0 0;\n",
              "      width: 32px;\n",
              "    }\n",
              "\n",
              "    .colab-df-convert:hover {\n",
              "      background-color: #E2EBFA;\n",
              "      box-shadow: 0px 1px 2px rgba(60, 64, 67, 0.3), 0px 1px 3px 1px rgba(60, 64, 67, 0.15);\n",
              "      fill: #174EA6;\n",
              "    }\n",
              "\n",
              "    [theme=dark] .colab-df-convert {\n",
              "      background-color: #3B4455;\n",
              "      fill: #D2E3FC;\n",
              "    }\n",
              "\n",
              "    [theme=dark] .colab-df-convert:hover {\n",
              "      background-color: #434B5C;\n",
              "      box-shadow: 0px 1px 3px 1px rgba(0, 0, 0, 0.15);\n",
              "      filter: drop-shadow(0px 1px 2px rgba(0, 0, 0, 0.3));\n",
              "      fill: #FFFFFF;\n",
              "    }\n",
              "  </style>\n",
              "\n",
              "      <script>\n",
              "        const buttonEl =\n",
              "          document.querySelector('#df-8284f33a-3c62-43d3-a921-e59a6e7232c9 button.colab-df-convert');\n",
              "        buttonEl.style.display =\n",
              "          google.colab.kernel.accessAllowed ? 'block' : 'none';\n",
              "\n",
              "        async function convertToInteractive(key) {\n",
              "          const element = document.querySelector('#df-8284f33a-3c62-43d3-a921-e59a6e7232c9');\n",
              "          const dataTable =\n",
              "            await google.colab.kernel.invokeFunction('convertToInteractive',\n",
              "                                                     [key], {});\n",
              "          if (!dataTable) return;\n",
              "\n",
              "          const docLinkHtml = 'Like what you see? Visit the ' +\n",
              "            '<a target=\"_blank\" href=https://colab.research.google.com/notebooks/data_table.ipynb>data table notebook</a>'\n",
              "            + ' to learn more about interactive tables.';\n",
              "          element.innerHTML = '';\n",
              "          dataTable['output_type'] = 'display_data';\n",
              "          await google.colab.output.renderOutput(dataTable, element);\n",
              "          const docLink = document.createElement('div');\n",
              "          docLink.innerHTML = docLinkHtml;\n",
              "          element.appendChild(docLink);\n",
              "        }\n",
              "      </script>\n",
              "    </div>\n",
              "  </div>\n",
              "  "
            ],
            "text/plain": [
              "                 contagem  fração vinhos aprovados\n",
              "(0.0084, 0.129]    3717.0                 0.500404"
            ]
          },
          "metadata": {},
          "execution_count": 41
        }
      ],
      "source": [
        "faixa_final"
      ]
    },
    {
      "cell_type": "code",
      "execution_count": 42,
      "metadata": {
        "id": "TWUAs3ucJtMs",
        "outputId": "9a939d4a-4560-4b92-dd0c-104c83054a56",
        "colab": {
          "base_uri": "https://localhost:8080/",
          "height": 112
        }
      },
      "outputs": [
        {
          "output_type": "execute_result",
          "data": {
            "text/html": [
              "\n",
              "  <div id=\"df-1152f653-bb4b-40f7-8c45-73e44feec9cd\">\n",
              "    <div class=\"colab-df-container\">\n",
              "      <div>\n",
              "<style scoped>\n",
              "    .dataframe tbody tr th:only-of-type {\n",
              "        vertical-align: middle;\n",
              "    }\n",
              "\n",
              "    .dataframe tbody tr th {\n",
              "        vertical-align: top;\n",
              "    }\n",
              "\n",
              "    .dataframe thead th {\n",
              "        text-align: right;\n",
              "    }\n",
              "</style>\n",
              "<table border=\"1\" class=\"dataframe\">\n",
              "  <thead>\n",
              "    <tr style=\"text-align: right;\">\n",
              "      <th></th>\n",
              "      <th>melhor faixa</th>\n",
              "      <th>contagem</th>\n",
              "      <th>fração vinhos aprovados</th>\n",
              "    </tr>\n",
              "    <tr>\n",
              "      <th>coluna</th>\n",
              "      <th></th>\n",
              "      <th></th>\n",
              "      <th></th>\n",
              "    </tr>\n",
              "  </thead>\n",
              "  <tbody>\n",
              "    <tr>\n",
              "      <th>chlorides</th>\n",
              "      <td>(0.0084, 0.129]</td>\n",
              "      <td>3717.0</td>\n",
              "      <td>0.500404</td>\n",
              "    </tr>\n",
              "  </tbody>\n",
              "</table>\n",
              "</div>\n",
              "      <button class=\"colab-df-convert\" onclick=\"convertToInteractive('df-1152f653-bb4b-40f7-8c45-73e44feec9cd')\"\n",
              "              title=\"Convert this dataframe to an interactive table.\"\n",
              "              style=\"display:none;\">\n",
              "        \n",
              "  <svg xmlns=\"http://www.w3.org/2000/svg\" height=\"24px\"viewBox=\"0 0 24 24\"\n",
              "       width=\"24px\">\n",
              "    <path d=\"M0 0h24v24H0V0z\" fill=\"none\"/>\n",
              "    <path d=\"M18.56 5.44l.94 2.06.94-2.06 2.06-.94-2.06-.94-.94-2.06-.94 2.06-2.06.94zm-11 1L8.5 8.5l.94-2.06 2.06-.94-2.06-.94L8.5 2.5l-.94 2.06-2.06.94zm10 10l.94 2.06.94-2.06 2.06-.94-2.06-.94-.94-2.06-.94 2.06-2.06.94z\"/><path d=\"M17.41 7.96l-1.37-1.37c-.4-.4-.92-.59-1.43-.59-.52 0-1.04.2-1.43.59L10.3 9.45l-7.72 7.72c-.78.78-.78 2.05 0 2.83L4 21.41c.39.39.9.59 1.41.59.51 0 1.02-.2 1.41-.59l7.78-7.78 2.81-2.81c.8-.78.8-2.07 0-2.86zM5.41 20L4 18.59l7.72-7.72 1.47 1.35L5.41 20z\"/>\n",
              "  </svg>\n",
              "      </button>\n",
              "      \n",
              "  <style>\n",
              "    .colab-df-container {\n",
              "      display:flex;\n",
              "      flex-wrap:wrap;\n",
              "      gap: 12px;\n",
              "    }\n",
              "\n",
              "    .colab-df-convert {\n",
              "      background-color: #E8F0FE;\n",
              "      border: none;\n",
              "      border-radius: 50%;\n",
              "      cursor: pointer;\n",
              "      display: none;\n",
              "      fill: #1967D2;\n",
              "      height: 32px;\n",
              "      padding: 0 0 0 0;\n",
              "      width: 32px;\n",
              "    }\n",
              "\n",
              "    .colab-df-convert:hover {\n",
              "      background-color: #E2EBFA;\n",
              "      box-shadow: 0px 1px 2px rgba(60, 64, 67, 0.3), 0px 1px 3px 1px rgba(60, 64, 67, 0.15);\n",
              "      fill: #174EA6;\n",
              "    }\n",
              "\n",
              "    [theme=dark] .colab-df-convert {\n",
              "      background-color: #3B4455;\n",
              "      fill: #D2E3FC;\n",
              "    }\n",
              "\n",
              "    [theme=dark] .colab-df-convert:hover {\n",
              "      background-color: #434B5C;\n",
              "      box-shadow: 0px 1px 3px 1px rgba(0, 0, 0, 0.15);\n",
              "      filter: drop-shadow(0px 1px 2px rgba(0, 0, 0, 0.3));\n",
              "      fill: #FFFFFF;\n",
              "    }\n",
              "  </style>\n",
              "\n",
              "      <script>\n",
              "        const buttonEl =\n",
              "          document.querySelector('#df-1152f653-bb4b-40f7-8c45-73e44feec9cd button.colab-df-convert');\n",
              "        buttonEl.style.display =\n",
              "          google.colab.kernel.accessAllowed ? 'block' : 'none';\n",
              "\n",
              "        async function convertToInteractive(key) {\n",
              "          const element = document.querySelector('#df-1152f653-bb4b-40f7-8c45-73e44feec9cd');\n",
              "          const dataTable =\n",
              "            await google.colab.kernel.invokeFunction('convertToInteractive',\n",
              "                                                     [key], {});\n",
              "          if (!dataTable) return;\n",
              "\n",
              "          const docLinkHtml = 'Like what you see? Visit the ' +\n",
              "            '<a target=\"_blank\" href=https://colab.research.google.com/notebooks/data_table.ipynb>data table notebook</a>'\n",
              "            + ' to learn more about interactive tables.';\n",
              "          element.innerHTML = '';\n",
              "          dataTable['output_type'] = 'display_data';\n",
              "          await google.colab.output.renderOutput(dataTable, element);\n",
              "          const docLink = document.createElement('div');\n",
              "          docLink.innerHTML = docLinkHtml;\n",
              "          element.appendChild(docLink);\n",
              "        }\n",
              "      </script>\n",
              "    </div>\n",
              "  </div>\n",
              "  "
            ],
            "text/plain": [
              "              melhor faixa  contagem  fração vinhos aprovados\n",
              "coluna                                                       \n",
              "chlorides  (0.0084, 0.129]    3717.0                 0.500404"
            ]
          },
          "metadata": {},
          "execution_count": 42
        }
      ],
      "source": [
        "# Reinicializando o índice\n",
        "faixa_final = faixa_final.reset_index() # Para transformar a faixa em uma coluna separada, que chamararemos de 'melhor faixa'\n",
        "# Renomeando colunas\n",
        "faixa_final.columns = ['melhor faixa','contagem','fração vinhos aprovados']\n",
        "# Criando uma nova coluna que terá o nome da variável analisada\n",
        "faixa_final['coluna'] = coluna\n",
        "# Colocando esta coluna coim o nome da variável como índice\n",
        "faixa_final.set_index('coluna',inplace=True)\n",
        "\n",
        "faixa_final"
      ]
    },
    {
      "cell_type": "code",
      "execution_count": 43,
      "metadata": {
        "id": "Qey9vkoZJtMt"
      },
      "outputs": [],
      "source": [
        "def seleciona_faixa(dados, coluna, min_vinhos=100, faixas=10):\n",
        "    # Função que parte dos dados e da coluna, selecionando a melhor faixa dentre as faixas escolhidas \n",
        "    # Passo 1 - Selecionar a variável e fazer a coluna de faixas\n",
        "    dados_treino[coluna+'_faixa'] = pd.cut(dados_treino[coluna],bins=faixas)\n",
        "    # Passo 2 - Agrupar pela coluna de faixas e calcular média da coluna 'aprovado'\n",
        "    agrupamento = dados_treino.groupby(coluna+'_faixa')['aprovado'].agg(['count','mean'])\n",
        "    agrupamento.columns = ['contagem','fração vinhos aprovados']\n",
        "    # Passo 3 - Selecionar apenas as faixas com um número mínimo de vinhos\n",
        "    agrupamento_filtro = agrupamento[agrupamento['contagem']>=min_vinhos]\n",
        "    # Passo 4 - Ordenar pela fração de vinhos aprovados, e selecionar a melhor faixa\n",
        "    faixa_final = agrupamento_filtro.sort_values(by='fração vinhos aprovados',ascending=False).reset_index().iloc[0].to_frame().T\n",
        "    # Ajustando nomes\n",
        "    faixa_final.columns = ['faixa','contagem','fração vinhos aprovados']\n",
        "    # Criando uma nova coluna com o nome da variável testada, e colocando-a como índice\n",
        "    faixa_final['coluna'] = coluna\n",
        "    faixa_final.set_index('coluna',inplace=True)\n",
        "    # Salvando as seleções em um dataframe\n",
        "    return faixa_final\n",
        "    # Não vamos retornar nada nessa função"
      ]
    },
    {
      "cell_type": "code",
      "execution_count": 44,
      "metadata": {
        "id": "FZDH50lOJtMu"
      },
      "outputs": [],
      "source": [
        "# Rodando para a primeira coluna\n",
        "teste_faixas = seleciona_faixa(dados_treino,'chlorides')"
      ]
    },
    {
      "cell_type": "code",
      "execution_count": 45,
      "metadata": {
        "scrolled": false,
        "id": "1mlpnwm0JtMv",
        "outputId": "7c721cd4-598d-40f6-f0c5-19b698314360",
        "colab": {
          "base_uri": "https://localhost:8080/",
          "height": 425
        }
      },
      "outputs": [
        {
          "output_type": "execute_result",
          "data": {
            "text/html": [
              "\n",
              "  <div id=\"df-d6d06d7f-e45f-42ff-80ac-8b7b601485b1\">\n",
              "    <div class=\"colab-df-container\">\n",
              "      <div>\n",
              "<style scoped>\n",
              "    .dataframe tbody tr th:only-of-type {\n",
              "        vertical-align: middle;\n",
              "    }\n",
              "\n",
              "    .dataframe tbody tr th {\n",
              "        vertical-align: top;\n",
              "    }\n",
              "\n",
              "    .dataframe thead th {\n",
              "        text-align: right;\n",
              "    }\n",
              "</style>\n",
              "<table border=\"1\" class=\"dataframe\">\n",
              "  <thead>\n",
              "    <tr style=\"text-align: right;\">\n",
              "      <th></th>\n",
              "      <th>faixa</th>\n",
              "      <th>contagem</th>\n",
              "      <th>fração vinhos aprovados</th>\n",
              "    </tr>\n",
              "    <tr>\n",
              "      <th>coluna</th>\n",
              "      <th></th>\n",
              "      <th></th>\n",
              "      <th></th>\n",
              "    </tr>\n",
              "  </thead>\n",
              "  <tbody>\n",
              "    <tr>\n",
              "      <th>chlorides</th>\n",
              "      <td>(0.0084, 0.0691]</td>\n",
              "      <td>2892</td>\n",
              "      <td>0.540802</td>\n",
              "    </tr>\n",
              "    <tr>\n",
              "      <th>volatile acidity</th>\n",
              "      <td>(0.0785, 0.23]</td>\n",
              "      <td>800</td>\n",
              "      <td>0.69125</td>\n",
              "    </tr>\n",
              "    <tr>\n",
              "      <th>citric acid</th>\n",
              "      <td>(0.246, 0.369]</td>\n",
              "      <td>1574</td>\n",
              "      <td>0.604828</td>\n",
              "    </tr>\n",
              "    <tr>\n",
              "      <th>residual sugar</th>\n",
              "      <td>(0.535, 7.12]</td>\n",
              "      <td>2679</td>\n",
              "      <td>0.513251</td>\n",
              "    </tr>\n",
              "    <tr>\n",
              "      <th>chlorides</th>\n",
              "      <td>(0.0084, 0.0691]</td>\n",
              "      <td>2892</td>\n",
              "      <td>0.540802</td>\n",
              "    </tr>\n",
              "    <tr>\n",
              "      <th>free sulfur dioxide</th>\n",
              "      <td>(29.8, 58.6]</td>\n",
              "      <td>1507</td>\n",
              "      <td>0.555408</td>\n",
              "    </tr>\n",
              "    <tr>\n",
              "      <th>total sulfur dioxide</th>\n",
              "      <td>(92.8, 136.2]</td>\n",
              "      <td>1158</td>\n",
              "      <td>0.596718</td>\n",
              "    </tr>\n",
              "    <tr>\n",
              "      <th>density</th>\n",
              "      <td>(0.987, 0.992]</td>\n",
              "      <td>820</td>\n",
              "      <td>0.77439</td>\n",
              "    </tr>\n",
              "    <tr>\n",
              "      <th>pH</th>\n",
              "      <td>(3.365, 3.494]</td>\n",
              "      <td>451</td>\n",
              "      <td>0.545455</td>\n",
              "    </tr>\n",
              "    <tr>\n",
              "      <th>sulphates</th>\n",
              "      <td>(0.775, 0.95]</td>\n",
              "      <td>169</td>\n",
              "      <td>0.698225</td>\n",
              "    </tr>\n",
              "    <tr>\n",
              "      <th>alcohol</th>\n",
              "      <td>(12.14, 12.83]</td>\n",
              "      <td>287</td>\n",
              "      <td>0.926829</td>\n",
              "    </tr>\n",
              "  </tbody>\n",
              "</table>\n",
              "</div>\n",
              "      <button class=\"colab-df-convert\" onclick=\"convertToInteractive('df-d6d06d7f-e45f-42ff-80ac-8b7b601485b1')\"\n",
              "              title=\"Convert this dataframe to an interactive table.\"\n",
              "              style=\"display:none;\">\n",
              "        \n",
              "  <svg xmlns=\"http://www.w3.org/2000/svg\" height=\"24px\"viewBox=\"0 0 24 24\"\n",
              "       width=\"24px\">\n",
              "    <path d=\"M0 0h24v24H0V0z\" fill=\"none\"/>\n",
              "    <path d=\"M18.56 5.44l.94 2.06.94-2.06 2.06-.94-2.06-.94-.94-2.06-.94 2.06-2.06.94zm-11 1L8.5 8.5l.94-2.06 2.06-.94-2.06-.94L8.5 2.5l-.94 2.06-2.06.94zm10 10l.94 2.06.94-2.06 2.06-.94-2.06-.94-.94-2.06-.94 2.06-2.06.94z\"/><path d=\"M17.41 7.96l-1.37-1.37c-.4-.4-.92-.59-1.43-.59-.52 0-1.04.2-1.43.59L10.3 9.45l-7.72 7.72c-.78.78-.78 2.05 0 2.83L4 21.41c.39.39.9.59 1.41.59.51 0 1.02-.2 1.41-.59l7.78-7.78 2.81-2.81c.8-.78.8-2.07 0-2.86zM5.41 20L4 18.59l7.72-7.72 1.47 1.35L5.41 20z\"/>\n",
              "  </svg>\n",
              "      </button>\n",
              "      \n",
              "  <style>\n",
              "    .colab-df-container {\n",
              "      display:flex;\n",
              "      flex-wrap:wrap;\n",
              "      gap: 12px;\n",
              "    }\n",
              "\n",
              "    .colab-df-convert {\n",
              "      background-color: #E8F0FE;\n",
              "      border: none;\n",
              "      border-radius: 50%;\n",
              "      cursor: pointer;\n",
              "      display: none;\n",
              "      fill: #1967D2;\n",
              "      height: 32px;\n",
              "      padding: 0 0 0 0;\n",
              "      width: 32px;\n",
              "    }\n",
              "\n",
              "    .colab-df-convert:hover {\n",
              "      background-color: #E2EBFA;\n",
              "      box-shadow: 0px 1px 2px rgba(60, 64, 67, 0.3), 0px 1px 3px 1px rgba(60, 64, 67, 0.15);\n",
              "      fill: #174EA6;\n",
              "    }\n",
              "\n",
              "    [theme=dark] .colab-df-convert {\n",
              "      background-color: #3B4455;\n",
              "      fill: #D2E3FC;\n",
              "    }\n",
              "\n",
              "    [theme=dark] .colab-df-convert:hover {\n",
              "      background-color: #434B5C;\n",
              "      box-shadow: 0px 1px 3px 1px rgba(0, 0, 0, 0.15);\n",
              "      filter: drop-shadow(0px 1px 2px rgba(0, 0, 0, 0.3));\n",
              "      fill: #FFFFFF;\n",
              "    }\n",
              "  </style>\n",
              "\n",
              "      <script>\n",
              "        const buttonEl =\n",
              "          document.querySelector('#df-d6d06d7f-e45f-42ff-80ac-8b7b601485b1 button.colab-df-convert');\n",
              "        buttonEl.style.display =\n",
              "          google.colab.kernel.accessAllowed ? 'block' : 'none';\n",
              "\n",
              "        async function convertToInteractive(key) {\n",
              "          const element = document.querySelector('#df-d6d06d7f-e45f-42ff-80ac-8b7b601485b1');\n",
              "          const dataTable =\n",
              "            await google.colab.kernel.invokeFunction('convertToInteractive',\n",
              "                                                     [key], {});\n",
              "          if (!dataTable) return;\n",
              "\n",
              "          const docLinkHtml = 'Like what you see? Visit the ' +\n",
              "            '<a target=\"_blank\" href=https://colab.research.google.com/notebooks/data_table.ipynb>data table notebook</a>'\n",
              "            + ' to learn more about interactive tables.';\n",
              "          element.innerHTML = '';\n",
              "          dataTable['output_type'] = 'display_data';\n",
              "          await google.colab.output.renderOutput(dataTable, element);\n",
              "          const docLink = document.createElement('div');\n",
              "          docLink.innerHTML = docLinkHtml;\n",
              "          element.appendChild(docLink);\n",
              "        }\n",
              "      </script>\n",
              "    </div>\n",
              "  </div>\n",
              "  "
            ],
            "text/plain": [
              "                                 faixa contagem fração vinhos aprovados\n",
              "coluna                                                                 \n",
              "chlorides             (0.0084, 0.0691]     2892                0.540802\n",
              "volatile acidity        (0.0785, 0.23]      800                 0.69125\n",
              "citric acid             (0.246, 0.369]     1574                0.604828\n",
              "residual sugar           (0.535, 7.12]     2679                0.513251\n",
              "chlorides             (0.0084, 0.0691]     2892                0.540802\n",
              "free sulfur dioxide       (29.8, 58.6]     1507                0.555408\n",
              "total sulfur dioxide     (92.8, 136.2]     1158                0.596718\n",
              "density                 (0.987, 0.992]      820                 0.77439\n",
              "pH                      (3.365, 3.494]      451                0.545455\n",
              "sulphates                (0.775, 0.95]      169                0.698225\n",
              "alcohol                 (12.14, 12.83]      287                0.926829"
            ]
          },
          "metadata": {},
          "execution_count": 45
        }
      ],
      "source": [
        "# Novamente selecionando as colunas numéricas\n",
        "colunas_numericas = list(dados_treino.select_dtypes(include='float').columns)\n",
        "\n",
        "# Rodando a função para todas as colunas (excluindo a 'chlorides', que já fizemos)\n",
        "for col in colunas_numericas[1:]:\n",
        "    teste_faixas = pd.concat([teste_faixas,seleciona_faixa(dados_treino,col)])\n",
        "teste_faixas"
      ]
    },
    {
      "cell_type": "code",
      "execution_count": null,
      "metadata": {
        "scrolled": false,
        "id": "e5_lQGjbJtMw",
        "outputId": "47121215-45fc-48dd-9b25-cd1949ad0b55"
      },
      "outputs": [
        {
          "data": {
            "text/html": [
              "<div>\n",
              "<style scoped>\n",
              "    .dataframe tbody tr th:only-of-type {\n",
              "        vertical-align: middle;\n",
              "    }\n",
              "\n",
              "    .dataframe tbody tr th {\n",
              "        vertical-align: top;\n",
              "    }\n",
              "\n",
              "    .dataframe thead th {\n",
              "        text-align: right;\n",
              "    }\n",
              "</style>\n",
              "<table border=\"1\" class=\"dataframe\">\n",
              "  <thead>\n",
              "    <tr style=\"text-align: right;\">\n",
              "      <th></th>\n",
              "      <th>faixa</th>\n",
              "      <th>contagem</th>\n",
              "      <th>fração vinhos aprovados</th>\n",
              "    </tr>\n",
              "    <tr>\n",
              "      <th>coluna</th>\n",
              "      <th></th>\n",
              "      <th></th>\n",
              "      <th></th>\n",
              "    </tr>\n",
              "  </thead>\n",
              "  <tbody>\n",
              "    <tr>\n",
              "      <th>alcohol</th>\n",
              "      <td>(12.14, 12.83]</td>\n",
              "      <td>287</td>\n",
              "      <td>0.926829</td>\n",
              "    </tr>\n",
              "    <tr>\n",
              "      <th>density</th>\n",
              "      <td>(0.987, 0.992]</td>\n",
              "      <td>820</td>\n",
              "      <td>0.77439</td>\n",
              "    </tr>\n",
              "    <tr>\n",
              "      <th>sulphates</th>\n",
              "      <td>(0.775, 0.95]</td>\n",
              "      <td>169</td>\n",
              "      <td>0.698225</td>\n",
              "    </tr>\n",
              "    <tr>\n",
              "      <th>volatile acidity</th>\n",
              "      <td>(0.0785, 0.23]</td>\n",
              "      <td>800</td>\n",
              "      <td>0.69125</td>\n",
              "    </tr>\n",
              "    <tr>\n",
              "      <th>citric acid</th>\n",
              "      <td>(0.246, 0.369]</td>\n",
              "      <td>1574</td>\n",
              "      <td>0.604828</td>\n",
              "    </tr>\n",
              "    <tr>\n",
              "      <th>total sulfur dioxide</th>\n",
              "      <td>(92.8, 136.2]</td>\n",
              "      <td>1158</td>\n",
              "      <td>0.596718</td>\n",
              "    </tr>\n",
              "    <tr>\n",
              "      <th>free sulfur dioxide</th>\n",
              "      <td>(29.8, 58.6]</td>\n",
              "      <td>1507</td>\n",
              "      <td>0.555408</td>\n",
              "    </tr>\n",
              "    <tr>\n",
              "      <th>pH</th>\n",
              "      <td>(3.365, 3.494]</td>\n",
              "      <td>451</td>\n",
              "      <td>0.545455</td>\n",
              "    </tr>\n",
              "    <tr>\n",
              "      <th>chlorides</th>\n",
              "      <td>(0.0084, 0.0691]</td>\n",
              "      <td>2892</td>\n",
              "      <td>0.540802</td>\n",
              "    </tr>\n",
              "    <tr>\n",
              "      <th>chlorides</th>\n",
              "      <td>(0.0084, 0.0691]</td>\n",
              "      <td>2892</td>\n",
              "      <td>0.540802</td>\n",
              "    </tr>\n",
              "    <tr>\n",
              "      <th>residual sugar</th>\n",
              "      <td>(0.535, 7.12]</td>\n",
              "      <td>2679</td>\n",
              "      <td>0.513251</td>\n",
              "    </tr>\n",
              "  </tbody>\n",
              "</table>\n",
              "</div>"
            ],
            "text/plain": [
              "                                 faixa contagem fração vinhos aprovados\n",
              "coluna                                                                 \n",
              "alcohol                 (12.14, 12.83]      287                0.926829\n",
              "density                 (0.987, 0.992]      820                 0.77439\n",
              "sulphates                (0.775, 0.95]      169                0.698225\n",
              "volatile acidity        (0.0785, 0.23]      800                 0.69125\n",
              "citric acid             (0.246, 0.369]     1574                0.604828\n",
              "total sulfur dioxide     (92.8, 136.2]     1158                0.596718\n",
              "free sulfur dioxide       (29.8, 58.6]     1507                0.555408\n",
              "pH                      (3.365, 3.494]      451                0.545455\n",
              "chlorides             (0.0084, 0.0691]     2892                0.540802\n",
              "chlorides             (0.0084, 0.0691]     2892                0.540802\n",
              "residual sugar           (0.535, 7.12]     2679                0.513251"
            ]
          },
          "execution_count": 49,
          "metadata": {},
          "output_type": "execute_result"
        }
      ],
      "source": [
        "# Ordenando pela melhor fração de aprovação\n",
        "teste_faixas.sort_values(by='fração vinhos aprovados',ascending=False) #Ascending=False indica ordenação decrescente"
      ]
    },
    {
      "cell_type": "markdown",
      "metadata": {
        "id": "CZlpdVxhJtMy"
      },
      "source": [
        "Vamos agora testar essa mesma regra na nossa `base de teste`, e verificar se nossas conclusões são consistentes!"
      ]
    },
    {
      "cell_type": "code",
      "execution_count": null,
      "metadata": {
        "id": "KMU9Rv9rJtMz",
        "outputId": "17deff80-4e20-4ceb-be6a-f16554bbde07"
      },
      "outputs": [
        {
          "data": {
            "text/plain": [
              "faixa                      (12.14, 12.83]\n",
              "contagem                              287\n",
              "fração vinhos aprovados          0.926829\n",
              "Name: alcohol, dtype: object"
            ]
          },
          "execution_count": 50,
          "metadata": {},
          "output_type": "execute_result"
        }
      ],
      "source": [
        "# Lembrando as faixas de corte\n",
        "teste_faixas.loc['alcohol']"
      ]
    },
    {
      "cell_type": "code",
      "execution_count": null,
      "metadata": {
        "id": "g_YqAQDcJtMz",
        "outputId": "830451e4-708d-463e-8e51-2704a6dca532"
      },
      "outputs": [
        {
          "name": "stdout",
          "output_type": "stream",
          "text": [
            "Média de vinhos aprovados com este filtro:\n",
            "0.9402985074626866\n"
          ]
        }
      ],
      "source": [
        "# Fazendo o mesmo corte na base de teste\n",
        "filtro_teste = dados_teste[dados_teste.alcohol.between(12.14,12.83)]\n",
        "\n",
        "# Média de vinhos aprovados\n",
        "print(\"Média de vinhos aprovados com este filtro:\")\n",
        "print(filtro_teste.aprovado.mean())"
      ]
    },
    {
      "cell_type": "markdown",
      "metadata": {
        "id": "QyZL7L4RJtM0"
      },
      "source": [
        "### <center> Mais de **94% de vinhos aprovados!!!**"
      ]
    }
  ],
  "metadata": {
    "celltoolbar": "Slideshow",
    "kernelspec": {
      "display_name": "Python 3",
      "language": "python",
      "name": "python3"
    },
    "language_info": {
      "codemirror_mode": {
        "name": "ipython",
        "version": 3
      },
      "file_extension": ".py",
      "mimetype": "text/x-python",
      "name": "python",
      "nbconvert_exporter": "python",
      "pygments_lexer": "ipython3",
      "version": "3.8.5"
    },
    "colab": {
      "name": "Analise-vinho.ipynb",
      "provenance": [],
      "include_colab_link": true
    }
  },
  "nbformat": 4,
  "nbformat_minor": 0
}